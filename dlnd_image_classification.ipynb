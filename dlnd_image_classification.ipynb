{
 "cells": [
  {
   "cell_type": "markdown",
   "metadata": {
    "collapsed": true,
    "deletable": true,
    "editable": true
   },
   "source": [
    "# Image Classification\n",
    "In this project, you'll classify images from the [CIFAR-10 dataset](https://www.cs.toronto.edu/~kriz/cifar.html).  The dataset consists of airplanes, dogs, cats, and other objects. You'll preprocess the images, then train a convolutional neural network on all the samples. The images need to be normalized and the labels need to be one-hot encoded.  You'll get to apply what you learned and build a convolutional, max pooling, dropout, and fully connected layers.  At the end, you'll get to see your neural network's predictions on the sample images.\n",
    "## Get the Data\n",
    "Run the following cell to download the [CIFAR-10 dataset for python](https://www.cs.toronto.edu/~kriz/cifar-10-python.tar.gz)."
   ]
  },
  {
   "cell_type": "code",
   "execution_count": 1,
   "metadata": {
    "collapsed": false,
    "deletable": true,
    "editable": true
   },
   "outputs": [
    {
     "name": "stderr",
     "output_type": "stream",
     "text": [
      "CIFAR-10 Dataset: 171MB [00:21, 7.94MB/s]                              \n"
     ]
    },
    {
     "name": "stdout",
     "output_type": "stream",
     "text": [
      "All files found!\n"
     ]
    }
   ],
   "source": [
    "\"\"\"\n",
    "DON'T MODIFY ANYTHING IN THIS CELL THAT IS BELOW THIS LINE\n",
    "\"\"\"\n",
    "from urllib.request import urlretrieve\n",
    "from os.path import isfile, isdir\n",
    "from tqdm import tqdm\n",
    "import problem_unittests as tests\n",
    "import tarfile\n",
    "\n",
    "cifar10_dataset_folder_path = 'cifar-10-batches-py'\n",
    "\n",
    "class DLProgress(tqdm):\n",
    "    last_block = 0\n",
    "\n",
    "    def hook(self, block_num=1, block_size=1, total_size=None):\n",
    "        self.total = total_size\n",
    "        self.update((block_num - self.last_block) * block_size)\n",
    "        self.last_block = block_num\n",
    "\n",
    "if not isfile('cifar-10-python.tar.gz'):\n",
    "    with DLProgress(unit='B', unit_scale=True, miniters=1, desc='CIFAR-10 Dataset') as pbar:\n",
    "        urlretrieve(\n",
    "            'https://www.cs.toronto.edu/~kriz/cifar-10-python.tar.gz',\n",
    "            'cifar-10-python.tar.gz',\n",
    "            pbar.hook)\n",
    "\n",
    "if not isdir(cifar10_dataset_folder_path):\n",
    "    with tarfile.open('cifar-10-python.tar.gz') as tar:\n",
    "        tar.extractall()\n",
    "        tar.close()\n",
    "\n",
    "\n",
    "tests.test_folder_path(cifar10_dataset_folder_path)"
   ]
  },
  {
   "cell_type": "markdown",
   "metadata": {
    "deletable": true,
    "editable": true
   },
   "source": [
    "## Explore the Data\n",
    "The dataset is broken into batches to prevent your machine from running out of memory.  The CIFAR-10 dataset consists of 5 batches, named `data_batch_1`, `data_batch_2`, etc.. Each batch contains the labels and images that are one of the following:\n",
    "* airplane\n",
    "* automobile\n",
    "* bird\n",
    "* cat\n",
    "* deer\n",
    "* dog\n",
    "* frog\n",
    "* horse\n",
    "* ship\n",
    "* truck\n",
    "\n",
    "Understanding a dataset is part of making predictions on the data.  Play around with the code cell below by changing the `batch_id` and `sample_id`. The `batch_id` is the id for a batch (1-5). The `sample_id` is the id for a image and label pair in the batch.\n",
    "\n",
    "Ask yourself \"What are all possible labels?\", \"What is the range of values for the image data?\", \"Are the labels in order or random?\".  Answers to questions like these will help you preprocess the data and end up with better predictions."
   ]
  },
  {
   "cell_type": "code",
   "execution_count": 2,
   "metadata": {
    "collapsed": false,
    "deletable": true,
    "editable": true
   },
   "outputs": [
    {
     "name": "stdout",
     "output_type": "stream",
     "text": [
      "\n",
      "Stats of batch 1:\n",
      "Samples: 10000\n",
      "Label Counts: {0: 1005, 1: 974, 2: 1032, 3: 1016, 4: 999, 5: 937, 6: 1030, 7: 1001, 8: 1025, 9: 981}\n",
      "First 20 Labels: [6, 9, 9, 4, 1, 1, 2, 7, 8, 3, 4, 7, 7, 2, 9, 9, 9, 3, 2, 6]\n",
      "\n",
      "Example of Image 5:\n",
      "Image - Min Value: 0 Max Value: 252\n",
      "Image - Shape: (32, 32, 3)\n",
      "Label - Label Id: 1 Name: automobile\n"
     ]
    },
    {
     "data": {
      "image/png": "[encoded data removed]",
      "text/plain": [
       "<matplotlib.figure.Figure at 0x7f1f733c6be0>"
      ]
     },
     "metadata": {
      "image/png": {
       "height": 250,
       "width": 253
      }
     },
     "output_type": "display_data"
    }
   ],
   "source": [
    "%matplotlib inline\n",
    "%config InlineBackend.figure_format = 'retina'\n",
    "\n",
    "import helper\n",
    "import numpy as np\n",
    "\n",
    "# Explore the dataset\n",
    "batch_id = 1\n",
    "sample_id = 5\n",
    "helper.display_stats(cifar10_dataset_folder_path, batch_id, sample_id)"
   ]
  },
  {
   "cell_type": "markdown",
   "metadata": {
    "deletable": true,
    "editable": true
   },
   "source": [
    "## Implement Preprocess Functions\n",
    "### Normalize\n",
    "In the cell below, implement the `normalize` function to take in image data, `x`, and return it as a normalized Numpy array. The values should be in the range of 0 to 1, inclusive.  The return object should be the same shape as `x`."
   ]
  },
  {
   "cell_type": "code",
   "execution_count": 4,
   "metadata": {
    "collapsed": false,
    "deletable": true,
    "editable": true
   },
   "outputs": [
    {
     "name": "stdout",
     "output_type": "stream",
     "text": [
      "Tests Passed\n"
     ]
    }
   ],
   "source": [
    "def normalize(x):\n",
    "    \"\"\"\n",
    "    Normalize a list of sample image data in the range of 0 to 1\n",
    "    : x: List of image data.  The image shape is (32, 32, 3)\n",
    "    : return: Numpy array of normalize data\n",
    "    \"\"\"\n",
    "    # TODO: Implement Function\n",
    "    return np.array((x) / (255))\n",
    "\n",
    "\n",
    "\"\"\"\n",
    "DON'T MODIFY ANYTHING IN THIS CELL THAT IS BELOW THIS LINE\n",
    "\"\"\"\n",
    "tests.test_normalize(normalize)"
   ]
  },
  {
   "cell_type": "markdown",
   "metadata": {
    "deletable": true,
    "editable": true
   },
   "source": [
    "### One-hot encode\n",
    "Just like the previous code cell, you'll be implementing a function for preprocessing.  This time, you'll implement the `one_hot_encode` function. The input, `x`, are a list of labels.  Implement the function to return the list of labels as One-Hot encoded Numpy array.  The possible values for labels are 0 to 9. The one-hot encoding function should return the same encoding for each value between each call to `one_hot_encode`.  Make sure to save the map of encodings outside the function.\n",
    "\n",
    "Hint: Don't reinvent the wheel."
   ]
  },
  {
   "cell_type": "code",
   "execution_count": 5,
   "metadata": {
    "collapsed": false,
    "deletable": true,
    "editable": true
   },
   "outputs": [
    {
     "name": "stdout",
     "output_type": "stream",
     "text": [
      "Tests Passed\n"
     ]
    }
   ],
   "source": [
    "def one_hot_encode(x):\n",
    "    \"\"\"\n",
    "    One hot encode a list of sample labels. Return a one-hot encoded vector for each label.\n",
    "    : x: List of sample Labels\n",
    "    : return: Numpy array of one-hot encoded labels\n",
    "    \"\"\"\n",
    "    # TODO: Implement Function\n",
    "    one_hot = np.zeros(shape=(len(x),10))\n",
    "    for i in range(len(x)):\n",
    "        for j in range(10):\n",
    "            one_hot[i][j] = (j == x[i])\n",
    "    return one_hot\n",
    "\n",
    "\n",
    "\"\"\"\n",
    "DON'T MODIFY ANYTHING IN THIS CELL THAT IS BELOW THIS LINE\n",
    "\"\"\"\n",
    "tests.test_one_hot_encode(one_hot_encode)"
   ]
  },
  {
   "cell_type": "markdown",
   "metadata": {
    "deletable": true,
    "editable": true
   },
   "source": [
    "### Randomize Data\n",
    "As you saw from exploring the data above, the order of the samples are randomized.  It doesn't hurt to randomize it again, but you don't need to for this dataset."
   ]
  },
  {
   "cell_type": "markdown",
   "metadata": {
    "deletable": true,
    "editable": true
   },
   "source": [
    "## Preprocess all the data and save it\n",
    "Running the code cell below will preprocess all the CIFAR-10 data and save it to file. The code below also uses 10% of the training data for validation."
   ]
  },
  {
   "cell_type": "code",
   "execution_count": 6,
   "metadata": {
    "collapsed": false,
    "deletable": true,
    "editable": true
   },
   "outputs": [],
   "source": [
    "\"\"\"\n",
    "DON'T MODIFY ANYTHING IN THIS CELL\n",
    "\"\"\"\n",
    "# Preprocess Training, Validation, and Testing Data\n",
    "helper.preprocess_and_save_data(cifar10_dataset_folder_path, normalize, one_hot_encode)"
   ]
  },
  {
   "cell_type": "markdown",
   "metadata": {
    "deletable": true,
    "editable": true
   },
   "source": [
    "# Check Point\n",
    "This is your first checkpoint.  If you ever decide to come back to this notebook or have to restart the notebook, you can start from here.  The preprocessed data has been saved to disk."
   ]
  },
  {
   "cell_type": "code",
   "execution_count": 7,
   "metadata": {
    "collapsed": true,
    "deletable": true,
    "editable": true
   },
   "outputs": [],
   "source": [
    "\"\"\"\n",
    "DON'T MODIFY ANYTHING IN THIS CELL\n",
    "\"\"\"\n",
    "import pickle\n",
    "import problem_unittests as tests\n",
    "import helper\n",
    "\n",
    "# Load the Preprocessed Validation data\n",
    "valid_features, valid_labels = pickle.load(open('preprocess_validation.p', mode='rb'))"
   ]
  },
  {
   "cell_type": "markdown",
   "metadata": {
    "deletable": true,
    "editable": true
   },
   "source": [
    "## Build the network\n",
    "For the neural network, you'll build each layer into a function.  Most of the code you've seen has been outside of functions. To test your code more thoroughly, we require that you put each layer in a function.  This allows us to give you better feedback and test for simple mistakes using our unittests before you submit your project.\n",
    "\n",
    ">**Note:** If you're finding it hard to dedicate enough time for this course each week, we've provided a small shortcut to this part of the project. In the next couple of problems, you'll have the option to use classes from the [TensorFlow Layers](https://www.tensorflow.org/api_docs/python/tf/layers) or [TensorFlow Layers (contrib)](https://www.tensorflow.org/api_guides/python/contrib.layers) packages to build each layer, except the layers you build in the \"Convolutional and Max Pooling Layer\" section.  TF Layers is similar to Keras's and TFLearn's abstraction to layers, so it's easy to pickup.\n",
    "\n",
    ">However, if you would like to get the most out of this course, try to solve all the problems _without_ using anything from the TF Layers packages. You **can** still use classes from other packages that happen to have the same name as ones you find in TF Layers! For example, instead of using the TF Layers version of the `conv2d` class, [tf.layers.conv2d](https://www.tensorflow.org/api_docs/python/tf/layers/conv2d), you would want to use the TF Neural Network version of `conv2d`, [tf.nn.conv2d](https://www.tensorflow.org/api_docs/python/tf/nn/conv2d). \n",
    "\n",
    "Let's begin!\n",
    "\n",
    "### Input\n",
    "The neural network needs to read the image data, one-hot encoded labels, and dropout keep probability. Implement the following functions\n",
    "* Implement `neural_net_image_input`\n",
    " * Return a [TF Placeholder](https://www.tensorflow.org/api_docs/python/tf/placeholder)\n",
    " * Set the shape using `image_shape` with batch size set to `None`.\n",
    " * Name the TensorFlow placeholder \"x\" using the TensorFlow `name` parameter in the [TF Placeholder](https://www.tensorflow.org/api_docs/python/tf/placeholder).\n",
    "* Implement `neural_net_label_input`\n",
    " * Return a [TF Placeholder](https://www.tensorflow.org/api_docs/python/tf/placeholder)\n",
    " * Set the shape using `n_classes` with batch size set to `None`.\n",
    " * Name the TensorFlow placeholder \"y\" using the TensorFlow `name` parameter in the [TF Placeholder](https://www.tensorflow.org/api_docs/python/tf/placeholder).\n",
    "* Implement `neural_net_keep_prob_input`\n",
    " * Return a [TF Placeholder](https://www.tensorflow.org/api_docs/python/tf/placeholder) for dropout keep probability.\n",
    " * Name the TensorFlow placeholder \"keep_prob\" using the TensorFlow `name` parameter in the [TF Placeholder](https://www.tensorflow.org/api_docs/python/tf/placeholder).\n",
    "\n",
    "These names will be used at the end of the project to load your saved model.\n",
    "\n",
    "Note: `None` for shapes in TensorFlow allow for a dynamic size."
   ]
  },
  {
   "cell_type": "code",
   "execution_count": 9,
   "metadata": {
    "collapsed": false,
    "deletable": true,
    "editable": true
   },
   "outputs": [
    {
     "name": "stdout",
     "output_type": "stream",
     "text": [
      "Image Input Tests Passed.\n",
      "Label Input Tests Passed.\n",
      "Keep Prob Tests Passed.\n"
     ]
    }
   ],
   "source": [
    "import tensorflow as tf\n",
    "\n",
    "def neural_net_image_input(image_shape):\n",
    "    \"\"\"\n",
    "    Return a Tensor for a batch of image input\n",
    "    : image_shape: Shape of the images\n",
    "    : return: Tensor for image input.\n",
    "    \"\"\"\n",
    "    # TODO: Implement Function\n",
    "    return tf.placeholder(dtype=tf.float32, shape=(None, *image_shape), name='x')\n",
    "\n",
    "\n",
    "def neural_net_label_input(n_classes):\n",
    "    \"\"\"\n",
    "    Return a Tensor for a batch of label input\n",
    "    : n_classes: Number of classes\n",
    "    : return: Tensor for label input.\n",
    "    \"\"\"\n",
    "    # TODO: Implement Function\n",
    "    return tf.placeholder(dtype=tf.float32, shape=(None, n_classes), name=\"y\")\n",
    "\n",
    "\n",
    "def neural_net_keep_prob_input():\n",
    "    \"\"\"\n",
    "    Return a Tensor for keep probability\n",
    "    : return: Tensor for keep probability.\n",
    "    \"\"\"\n",
    "    # TODO: Implement Function\n",
    "    return tf.placeholder(tf.float32, name=\"keep_prob\")\n",
    "\n",
    "\n",
    "\"\"\"\n",
    "DON'T MODIFY ANYTHING IN THIS CELL THAT IS BELOW THIS LINE\n",
    "\"\"\"\n",
    "tf.reset_default_graph()\n",
    "tests.test_nn_image_inputs(neural_net_image_input)\n",
    "tests.test_nn_label_inputs(neural_net_label_input)\n",
    "tests.test_nn_keep_prob_inputs(neural_net_keep_prob_input)"
   ]
  },
  {
   "cell_type": "markdown",
   "metadata": {
    "deletable": true,
    "editable": true
   },
   "source": [
    "### Convolution and Max Pooling Layer\n",
    "Convolution layers have a lot of success with images. For this code cell, you should implement the function `conv2d_maxpool` to apply convolution then max pooling:\n",
    "* Create the weight and bias using `conv_ksize`, `conv_num_outputs` and the shape of `x_tensor`.\n",
    "* Apply a convolution to `x_tensor` using weight and `conv_strides`.\n",
    " * We recommend you use same padding, but you're welcome to use any padding.\n",
    "* Add bias\n",
    "* Add a nonlinear activation to the convolution.\n",
    "* Apply Max Pooling using `pool_ksize` and `pool_strides`.\n",
    " * We recommend you use same padding, but you're welcome to use any padding.\n",
    "\n",
    "**Note:** You **can't** use [TensorFlow Layers](https://www.tensorflow.org/api_docs/python/tf/layers) or [TensorFlow Layers (contrib)](https://www.tensorflow.org/api_guides/python/contrib.layers) for **this** layer, but you can still use TensorFlow's [Neural Network](https://www.tensorflow.org/api_docs/python/tf/nn) package. You may still use the shortcut option for all the **other** layers."
   ]
  },
  {
   "cell_type": "code",
   "execution_count": 38,
   "metadata": {
    "collapsed": false,
    "deletable": true,
    "editable": true
   },
   "outputs": [
    {
     "name": "stdout",
     "output_type": "stream",
     "text": [
      "Tests Passed\n"
     ]
    }
   ],
   "source": [
    "def conv2d_maxpool(x_tensor, conv_num_outputs, conv_ksize, conv_strides, pool_ksize, pool_strides):\n",
    "    \"\"\"\n",
    "    Apply convolution then max pooling to x_tensor\n",
    "    :param x_tensor: TensorFlow Tensor\n",
    "    :param conv_num_outputs: Number of outputs for the convolutional layer\n",
    "    :param conv_ksize: kernal size 2-D Tuple for the convolutional layer\n",
    "    :param conv_strides: Stride 2-D Tuple for convolution\n",
    "    :param pool_ksize: kernal size 2-D Tuple for pool\n",
    "    :param pool_strides: Stride 2-D Tuple for pool\n",
    "    : return: A tensor that represents convolution and max pooling of x_tensor\n",
    "    \"\"\"\n",
    "    # TODO: Implement Function\n",
    "    weight = tf.Variable(tf.truncated_normal([*conv_ksize, x_tensor.get_shape().as_list()[-1], conv_num_outputs],stddev=0.1))\n",
    "    bias = tf.Variable(tf.zeros(conv_num_outputs))   \n",
    "    conv = tf.nn.conv2d(x_tensor,weight,strides=[1,*conv_strides,1],padding='SAME')\n",
    "    conv = tf.nn.bias_add(conv,bias)\n",
    "    conv =tf.nn.relu(conv)\n",
    "    conv = tf.nn.max_pool(conv,ksize=[1,*pool_ksize,1],strides=[1,*pool_strides,1],padding='SAME')\n",
    "    return conv\n",
    "\n",
    "\"\"\"\n",
    "DON'T MODIFY ANYTHING IN THIS CELL THAT IS BELOW THIS LINE\n",
    "\"\"\"\n",
    "tests.test_con_pool(conv2d_maxpool)"
   ]
  },
  {
   "cell_type": "markdown",
   "metadata": {
    "deletable": true,
    "editable": true
   },
   "source": [
    "### Flatten Layer\n",
    "Implement the `flatten` function to change the dimension of `x_tensor` from a 4-D tensor to a 2-D tensor.  The output should be the shape (*Batch Size*, *Flattened Image Size*). Shortcut option: you can use classes from the [TensorFlow Layers](https://www.tensorflow.org/api_docs/python/tf/layers) or [TensorFlow Layers (contrib)](https://www.tensorflow.org/api_guides/python/contrib.layers) packages for this layer. For more of a challenge, only use other TensorFlow packages."
   ]
  },
  {
   "cell_type": "code",
   "execution_count": 39,
   "metadata": {
    "collapsed": false,
    "deletable": true,
    "editable": true
   },
   "outputs": [
    {
     "name": "stdout",
     "output_type": "stream",
     "text": [
      "Tests Passed\n"
     ]
    }
   ],
   "source": [
    "def flatten(x_tensor):\n",
    "    \"\"\"\n",
    "    Flatten x_tensor to (Batch Size, Flattened Image Size)\n",
    "    : x_tensor: A tensor of size (Batch Size, ...), where ... are the image dimensions.\n",
    "    : return: A tensor of size (Batch Size, Flattened Image Size).\n",
    "    \"\"\"\n",
    "    # TODO: Implement Function\n",
    "    return tf.contrib.layers.flatten(x_tensor)\n",
    "\n",
    "\n",
    "\"\"\"\n",
    "DON'T MODIFY ANYTHING IN THIS CELL THAT IS BELOW THIS LINE\n",
    "\"\"\"\n",
    "tests.test_flatten(flatten)"
   ]
  },
  {
   "cell_type": "markdown",
   "metadata": {
    "deletable": true,
    "editable": true
   },
   "source": [
    "### Fully-Connected Layer\n",
    "Implement the `fully_conn` function to apply a fully connected layer to `x_tensor` with the shape (*Batch Size*, *num_outputs*). Shortcut option: you can use classes from the [TensorFlow Layers](https://www.tensorflow.org/api_docs/python/tf/layers) or [TensorFlow Layers (contrib)](https://www.tensorflow.org/api_guides/python/contrib.layers) packages for this layer. For more of a challenge, only use other TensorFlow packages."
   ]
  },
  {
   "cell_type": "code",
   "execution_count": 40,
   "metadata": {
    "collapsed": false,
    "deletable": true,
    "editable": true
   },
   "outputs": [
    {
     "name": "stdout",
     "output_type": "stream",
     "text": [
      "Tests Passed\n"
     ]
    }
   ],
   "source": [
    "def fully_conn(x_tensor, num_outputs):\n",
    "    \"\"\"\n",
    "    Apply a fully connected layer to x_tensor using weight and bias\n",
    "    : x_tensor: A 2-D tensor where the first dimension is batch size.\n",
    "    : num_outputs: The number of output that the new tensor should be.\n",
    "    : return: A 2-D tensor where the second dimension is num_outputs.\n",
    "    \"\"\"\n",
    "    # TODO: Implement Function\n",
    "    fc =tf.contrib.layers.fully_connected(x_tensor, num_outputs)\n",
    "    fc = tf.nn.relu(fc)\n",
    "    return fc\n",
    "\n",
    "\n",
    "\"\"\"\n",
    "DON'T MODIFY ANYTHING IN THIS CELL THAT IS BELOW THIS LINE\n",
    "\"\"\"\n",
    "tests.test_fully_conn(fully_conn)"
   ]
  },
  {
   "cell_type": "markdown",
   "metadata": {
    "deletable": true,
    "editable": true
   },
   "source": [
    "### Output Layer\n",
    "Implement the `output` function to apply a fully connected layer to `x_tensor` with the shape (*Batch Size*, *num_outputs*). Shortcut option: you can use classes from the [TensorFlow Layers](https://www.tensorflow.org/api_docs/python/tf/layers) or [TensorFlow Layers (contrib)](https://www.tensorflow.org/api_guides/python/contrib.layers) packages for this layer. For more of a challenge, only use other TensorFlow packages.\n",
    "\n",
    "**Note:** Activation, softmax, or cross entropy should **not** be applied to this."
   ]
  },
  {
   "cell_type": "code",
   "execution_count": 41,
   "metadata": {
    "collapsed": false,
    "deletable": true,
    "editable": true
   },
   "outputs": [
    {
     "name": "stdout",
     "output_type": "stream",
     "text": [
      "Tests Passed\n"
     ]
    }
   ],
   "source": [
    "def output(x_tensor, num_outputs):\n",
    "    \"\"\"\n",
    "    Apply a output layer to x_tensor using weight and bias\n",
    "    : x_tensor: A 2-D tensor where the first dimension is batch size.\n",
    "    : num_outputs: The number of output that the new tensor should be.\n",
    "    : return: A 2-D tensor where the second dimension is num_outputs.\n",
    "    \"\"\"\n",
    "    # TODO: Implement Function\n",
    "    return tf.contrib.layers.fully_connected(x_tensor, num_outputs)\n",
    "\n",
    "\n",
    "\"\"\"\n",
    "DON'T MODIFY ANYTHING IN THIS CELL THAT IS BELOW THIS LINE\n",
    "\"\"\"\n",
    "tests.test_output(output)"
   ]
  },
  {
   "cell_type": "markdown",
   "metadata": {
    "deletable": true,
    "editable": true
   },
   "source": [
    "### Create Convolutional Model\n",
    "Implement the function `conv_net` to create a convolutional neural network model. The function takes in a batch of images, `x`, and outputs logits.  Use the layers you created above to create this model:\n",
    "\n",
    "* Apply 1, 2, or 3 Convolution and Max Pool layers\n",
    "* Apply a Flatten Layer\n",
    "* Apply 1, 2, or 3 Fully Connected Layers\n",
    "* Apply an Output Layer\n",
    "* Return the output\n",
    "* Apply [TensorFlow's Dropout](https://www.tensorflow.org/api_docs/python/tf/nn/dropout) to one or more layers in the model using `keep_prob`. "
   ]
  },
  {
   "cell_type": "code",
   "execution_count": 42,
   "metadata": {
    "collapsed": false,
    "deletable": true,
    "editable": true
   },
   "outputs": [
    {
     "name": "stdout",
     "output_type": "stream",
     "text": [
      "Neural Network Built!\n"
     ]
    }
   ],
   "source": [
    "def conv_net(x, keep_prob):\n",
    "    \"\"\"\n",
    "    Create a convolutional neural network model\n",
    "    : x: Placeholder tensor that holds image data.\n",
    "    : keep_prob: Placeholder tensor that hold dropout keep probability.\n",
    "    : return: Tensor that represents logits\n",
    "    \"\"\"\n",
    "    # TODO: Apply 1, 2, or 3 Convolution and Max Pool layers\n",
    "    #    Play around with different number of outputs, kernel size and stride\n",
    "    # Function Definition from Above:\n",
    "    #    conv2d_maxpool(x_tensor, conv_num_outputs, conv_ksize, conv_strides, pool_ksize, pool_strides)\n",
    "    layer1 = conv2d_maxpool(x,16,(3,3),(1,1),(2,2),(2,2))\n",
    "    layer2 = conv2d_maxpool(layer1,32,(3,3),(1,1),(2,2),(2,2))\n",
    "    layer3 = conv2d_maxpool(layer2,64,(3,3),(1,1),(2,2),(2,2))\n",
    "    # TODO: Apply a Flatten Layer\n",
    "    # Function Definition from Above:\n",
    "    #   flatten(x_tensor)\n",
    "    layer = flatten(layer3)\n",
    "\n",
    "    # TODO: Apply 1, 2, or 3 Fully Connected Layers\n",
    "    #    Play around with different number of outputs\n",
    "    # Function Definition from Above:\n",
    "    #   fully_conn(x_tensor, num_outputs)\n",
    "    layer = fully_conn(layer,512)\n",
    "    layer = tf.nn.dropout(layer,keep_prob)\n",
    "    \n",
    "    # TODO: Apply an Output Layer\n",
    "    #    Set this to the number of classes\n",
    "    # Function Definition from Above:\n",
    "    #   output(x_tensor, num_outputs)\n",
    "    layer = output(layer,10)\n",
    "    \n",
    "    # TODO: return output\n",
    "    return layer\n",
    "\n",
    "\n",
    "\"\"\"\n",
    "DON'T MODIFY ANYTHING IN THIS CELL THAT IS BELOW THIS LINE\n",
    "\"\"\"\n",
    "\n",
    "##############################\n",
    "## Build the Neural Network ##\n",
    "##############################\n",
    "\n",
    "# Remove previous weights, bias, inputs, etc..\n",
    "tf.reset_default_graph()\n",
    "\n",
    "# Inputs\n",
    "x = neural_net_image_input((32, 32, 3))\n",
    "y = neural_net_label_input(10)\n",
    "keep_prob = neural_net_keep_prob_input()\n",
    "\n",
    "# Model\n",
    "logits = conv_net(x, keep_prob)\n",
    "\n",
    "# Name logits Tensor, so that is can be loaded from disk after training\n",
    "logits = tf.identity(logits, name='logits')\n",
    "\n",
    "# Loss and Optimizer\n",
    "cost = tf.reduce_mean(tf.nn.softmax_cross_entropy_with_logits(logits=logits, labels=y))\n",
    "optimizer = tf.train.AdamOptimizer().minimize(cost)\n",
    "\n",
    "# Accuracy\n",
    "correct_pred = tf.equal(tf.argmax(logits, 1), tf.argmax(y, 1))\n",
    "accuracy = tf.reduce_mean(tf.cast(correct_pred, tf.float32), name='accuracy')\n",
    "\n",
    "tests.test_conv_net(conv_net)"
   ]
  },
  {
   "cell_type": "markdown",
   "metadata": {
    "deletable": true,
    "editable": true
   },
   "source": [
    "## Train the Neural Network\n",
    "### Single Optimization\n",
    "Implement the function `train_neural_network` to do a single optimization.  The optimization should use `optimizer` to optimize in `session` with a `feed_dict` of the following:\n",
    "* `x` for image input\n",
    "* `y` for labels\n",
    "* `keep_prob` for keep probability for dropout\n",
    "\n",
    "This function will be called for each batch, so `tf.global_variables_initializer()` has already been called.\n",
    "\n",
    "Note: Nothing needs to be returned. This function is only optimizing the neural network."
   ]
  },
  {
   "cell_type": "code",
   "execution_count": 43,
   "metadata": {
    "collapsed": false,
    "deletable": true,
    "editable": true
   },
   "outputs": [
    {
     "name": "stdout",
     "output_type": "stream",
     "text": [
      "Tests Passed\n"
     ]
    }
   ],
   "source": [
    "def train_neural_network(session, optimizer, keep_probability, feature_batch, label_batch):\n",
    "    \"\"\"\n",
    "    Optimize the session on a batch of images and labels\n",
    "    : session: Current TensorFlow session\n",
    "    : optimizer: TensorFlow optimizer function\n",
    "    : keep_probability: keep probability\n",
    "    : feature_batch: Batch of Numpy image data\n",
    "    : label_batch: Batch of Numpy label data\n",
    "    \"\"\"\n",
    "    # TODO: Implement Function\n",
    "    session.run(optimizer, feed_dict={x:feature_batch, y:label_batch, keep_prob:keep_probability})\n",
    "\n",
    "\n",
    "\"\"\"\n",
    "DON'T MODIFY ANYTHING IN THIS CELL THAT IS BELOW THIS LINE\n",
    "\"\"\"\n",
    "tests.test_train_nn(train_neural_network)"
   ]
  },
  {
   "cell_type": "markdown",
   "metadata": {
    "deletable": true,
    "editable": true
   },
   "source": [
    "### Show Stats\n",
    "Implement the function `print_stats` to print loss and validation accuracy.  Use the global variables `valid_features` and `valid_labels` to calculate validation accuracy.  Use a keep probability of `1.0` to calculate the loss and validation accuracy."
   ]
  },
  {
   "cell_type": "code",
   "execution_count": 44,
   "metadata": {
    "collapsed": false,
    "deletable": true,
    "editable": true
   },
   "outputs": [],
   "source": [
    "def print_stats(session, feature_batch, label_batch, cost, accuracy):\n",
    "    \"\"\"\n",
    "    Print information about loss and validation accuracy\n",
    "    : session: Current TensorFlow session\n",
    "    : feature_batch: Batch of Numpy image data\n",
    "    : label_batch: Batch of Numpy label data\n",
    "    : cost: TensorFlow cost function\n",
    "    : accuracy: TensorFlow accuracy function\n",
    "    \"\"\"\n",
    "    # TODO: Implement Function\n",
    "    loss = session.run(cost, feed_dict={x:feature_batch, y:label_batch, keep_prob:1.0})\n",
    "    valid_acc = session.run(accuracy, feed_dict={x:valid_features, y:valid_labels, keep_prob:1.0})\n",
    "    print('Loss: {:>10.4f} Validation Accuracy: {:.6f}'.format(loss, valid_acc))"
   ]
  },
  {
   "cell_type": "markdown",
   "metadata": {
    "deletable": true,
    "editable": true
   },
   "source": [
    "### Hyperparameters\n",
    "Tune the following parameters:\n",
    "* Set `epochs` to the number of iterations until the network stops learning or start overfitting\n",
    "* Set `batch_size` to the highest number that your machine has memory for.  Most people set them to common sizes of memory:\n",
    " * 64\n",
    " * 128\n",
    " * 256\n",
    " * ...\n",
    "* Set `keep_probability` to the probability of keeping a node using dropout"
   ]
  },
  {
   "cell_type": "code",
   "execution_count": 47,
   "metadata": {
    "collapsed": true,
    "deletable": true,
    "editable": true
   },
   "outputs": [],
   "source": [
    "# TODO: Tune Parameters\n",
    "epochs = 50\n",
    "batch_size = 1024\n",
    "keep_probability = 0.8"
   ]
  },
  {
   "cell_type": "markdown",
   "metadata": {
    "deletable": true,
    "editable": true
   },
   "source": [
    "### Train on a Single CIFAR-10 Batch\n",
    "Instead of training the neural network on all the CIFAR-10 batches of data, let's use a single batch. This should save time while you iterate on the model to get a better accuracy.  Once the final validation accuracy is 50% or greater, run the model on all the data in the next section."
   ]
  },
  {
   "cell_type": "code",
   "execution_count": 48,
   "metadata": {
    "collapsed": false,
    "deletable": true,
    "editable": true
   },
   "outputs": [
    {
     "name": "stdout",
     "output_type": "stream",
     "text": [
      "Checking the Training on a Single Batch...\n",
      "Epoch  1, CIFAR-10 Batch 1:  Loss:     2.2892 Validation Accuracy: 0.160000\n",
      "Epoch  2, CIFAR-10 Batch 1:  Loss:     2.2594 Validation Accuracy: 0.158400\n",
      "Epoch  3, CIFAR-10 Batch 1:  Loss:     2.2466 Validation Accuracy: 0.171600\n",
      "Epoch  4, CIFAR-10 Batch 1:  Loss:     2.2081 Validation Accuracy: 0.190000\n",
      "Epoch  5, CIFAR-10 Batch 1:  Loss:     2.1584 Validation Accuracy: 0.229800\n",
      "Epoch  6, CIFAR-10 Batch 1:  Loss:     2.1351 Validation Accuracy: 0.247000\n",
      "Epoch  7, CIFAR-10 Batch 1:  Loss:     2.1083 Validation Accuracy: 0.262200\n",
      "Epoch  8, CIFAR-10 Batch 1:  Loss:     2.1019 Validation Accuracy: 0.263200\n",
      "Epoch  9, CIFAR-10 Batch 1:  Loss:     2.0661 Validation Accuracy: 0.274200\n",
      "Epoch 10, CIFAR-10 Batch 1:  Loss:     2.0510 Validation Accuracy: 0.279600\n",
      "Epoch 11, CIFAR-10 Batch 1:  Loss:     2.0207 Validation Accuracy: 0.295200\n",
      "Epoch 12, CIFAR-10 Batch 1:  Loss:     1.9891 Validation Accuracy: 0.303200\n",
      "Epoch 13, CIFAR-10 Batch 1:  Loss:     1.9587 Validation Accuracy: 0.319000\n",
      "Epoch 14, CIFAR-10 Batch 1:  Loss:     1.8825 Validation Accuracy: 0.382200\n",
      "Epoch 15, CIFAR-10 Batch 1:  Loss:     1.8472 Validation Accuracy: 0.384800\n",
      "Epoch 16, CIFAR-10 Batch 1:  Loss:     1.8151 Validation Accuracy: 0.394200\n",
      "Epoch 17, CIFAR-10 Batch 1:  Loss:     1.7970 Validation Accuracy: 0.401200\n",
      "Epoch 18, CIFAR-10 Batch 1:  Loss:     1.7237 Validation Accuracy: 0.445600\n",
      "Epoch 19, CIFAR-10 Batch 1:  Loss:     1.6667 Validation Accuracy: 0.453000\n",
      "Epoch 20, CIFAR-10 Batch 1:  Loss:     1.6392 Validation Accuracy: 0.450600\n",
      "Epoch 21, CIFAR-10 Batch 1:  Loss:     1.6303 Validation Accuracy: 0.453600\n",
      "Epoch 22, CIFAR-10 Batch 1:  Loss:     1.5991 Validation Accuracy: 0.456000\n",
      "Epoch 23, CIFAR-10 Batch 1:  Loss:     1.5580 Validation Accuracy: 0.466600\n",
      "Epoch 24, CIFAR-10 Batch 1:  Loss:     1.5496 Validation Accuracy: 0.464800\n",
      "Epoch 25, CIFAR-10 Batch 1:  Loss:     1.5259 Validation Accuracy: 0.473600\n",
      "Epoch 26, CIFAR-10 Batch 1:  Loss:     1.4980 Validation Accuracy: 0.470600\n",
      "Epoch 27, CIFAR-10 Batch 1:  Loss:     1.4985 Validation Accuracy: 0.467200\n",
      "Epoch 28, CIFAR-10 Batch 1:  Loss:     1.4928 Validation Accuracy: 0.463800\n",
      "Epoch 29, CIFAR-10 Batch 1:  Loss:     1.4544 Validation Accuracy: 0.479800\n",
      "Epoch 30, CIFAR-10 Batch 1:  Loss:     1.4393 Validation Accuracy: 0.481800\n",
      "Epoch 31, CIFAR-10 Batch 1:  Loss:     1.4271 Validation Accuracy: 0.482200\n",
      "Epoch 32, CIFAR-10 Batch 1:  Loss:     1.3892 Validation Accuracy: 0.484800\n",
      "Epoch 33, CIFAR-10 Batch 1:  Loss:     1.3720 Validation Accuracy: 0.484600\n",
      "Epoch 34, CIFAR-10 Batch 1:  Loss:     1.3762 Validation Accuracy: 0.480600\n",
      "Epoch 35, CIFAR-10 Batch 1:  Loss:     1.3573 Validation Accuracy: 0.484600\n",
      "Epoch 36, CIFAR-10 Batch 1:  Loss:     1.3309 Validation Accuracy: 0.486400\n",
      "Epoch 37, CIFAR-10 Batch 1:  Loss:     1.3354 Validation Accuracy: 0.485800\n",
      "Epoch 38, CIFAR-10 Batch 1:  Loss:     1.2815 Validation Accuracy: 0.495800\n",
      "Epoch 39, CIFAR-10 Batch 1:  Loss:     1.2560 Validation Accuracy: 0.499800\n",
      "Epoch 40, CIFAR-10 Batch 1:  Loss:     1.1951 Validation Accuracy: 0.515400\n",
      "Epoch 41, CIFAR-10 Batch 1:  Loss:     1.1705 Validation Accuracy: 0.516400\n",
      "Epoch 42, CIFAR-10 Batch 1:  Loss:     1.1546 Validation Accuracy: 0.515800\n",
      "Epoch 43, CIFAR-10 Batch 1:  Loss:     1.1393 Validation Accuracy: 0.512200\n",
      "Epoch 44, CIFAR-10 Batch 1:  Loss:     1.1259 Validation Accuracy: 0.510400\n",
      "Epoch 45, CIFAR-10 Batch 1:  Loss:     1.1099 Validation Accuracy: 0.514400\n",
      "Epoch 46, CIFAR-10 Batch 1:  Loss:     1.0910 Validation Accuracy: 0.520600\n",
      "Epoch 47, CIFAR-10 Batch 1:  Loss:     1.0930 Validation Accuracy: 0.519000\n",
      "Epoch 48, CIFAR-10 Batch 1:  Loss:     1.0706 Validation Accuracy: 0.522200\n",
      "Epoch 49, CIFAR-10 Batch 1:  Loss:     1.0458 Validation Accuracy: 0.516800\n",
      "Epoch 50, CIFAR-10 Batch 1:  Loss:     1.0424 Validation Accuracy: 0.508400\n"
     ]
    }
   ],
   "source": [
    "\"\"\"\n",
    "DON'T MODIFY ANYTHING IN THIS CELL\n",
    "\"\"\"\n",
    "print('Checking the Training on a Single Batch...')\n",
    "with tf.Session() as sess:\n",
    "    # Initializing the variables\n",
    "    sess.run(tf.global_variables_initializer())\n",
    "    \n",
    "    # Training cycle\n",
    "    for epoch in range(epochs):\n",
    "        batch_i = 1\n",
    "        for batch_features, batch_labels in helper.load_preprocess_training_batch(batch_i, batch_size):\n",
    "            train_neural_network(sess, optimizer, keep_probability, batch_features, batch_labels)\n",
    "        print('Epoch {:>2}, CIFAR-10 Batch {}:  '.format(epoch + 1, batch_i), end='')\n",
    "        print_stats(sess, batch_features, batch_labels, cost, accuracy)"
   ]
  },
  {
   "cell_type": "markdown",
   "metadata": {
    "deletable": true,
    "editable": true
   },
   "source": [
    "### Fully Train the Model\n",
    "Now that you got a good accuracy with a single CIFAR-10 batch, try it with all five batches."
   ]
  },
  {
   "cell_type": "code",
   "execution_count": 49,
   "metadata": {
    "collapsed": false,
    "deletable": true,
    "editable": true
   },
   "outputs": [
    {
     "name": "stdout",
     "output_type": "stream",
     "text": [
      "Training...\n",
      "Epoch  1, CIFAR-10 Batch 1:  Loss:     2.2030 Validation Accuracy: 0.186000\n",
      "Epoch  1, CIFAR-10 Batch 2:  Loss:     2.0914 Validation Accuracy: 0.269600\n",
      "Epoch  1, CIFAR-10 Batch 3:  Loss:     2.0396 Validation Accuracy: 0.293600\n",
      "Epoch  1, CIFAR-10 Batch 4:  Loss:     1.9673 Validation Accuracy: 0.290000\n",
      "Epoch  1, CIFAR-10 Batch 5:  Loss:     1.9905 Validation Accuracy: 0.310800\n",
      "Epoch  2, CIFAR-10 Batch 1:  Loss:     1.9488 Validation Accuracy: 0.354200\n",
      "Epoch  2, CIFAR-10 Batch 2:  Loss:     1.8751 Validation Accuracy: 0.379400\n",
      "Epoch  2, CIFAR-10 Batch 3:  Loss:     1.8450 Validation Accuracy: 0.379800\n",
      "Epoch  2, CIFAR-10 Batch 4:  Loss:     1.7530 Validation Accuracy: 0.387200\n",
      "Epoch  2, CIFAR-10 Batch 5:  Loss:     1.7762 Validation Accuracy: 0.400400\n",
      "Epoch  3, CIFAR-10 Batch 1:  Loss:     1.7733 Validation Accuracy: 0.390200\n",
      "Epoch  3, CIFAR-10 Batch 2:  Loss:     1.7588 Validation Accuracy: 0.409000\n",
      "Epoch  3, CIFAR-10 Batch 3:  Loss:     1.7250 Validation Accuracy: 0.418800\n",
      "Epoch  3, CIFAR-10 Batch 4:  Loss:     1.6581 Validation Accuracy: 0.417200\n",
      "Epoch  3, CIFAR-10 Batch 5:  Loss:     1.6823 Validation Accuracy: 0.417600\n",
      "Epoch  4, CIFAR-10 Batch 1:  Loss:     1.6070 Validation Accuracy: 0.436600\n",
      "Epoch  4, CIFAR-10 Batch 2:  Loss:     1.5856 Validation Accuracy: 0.453200\n",
      "Epoch  4, CIFAR-10 Batch 3:  Loss:     1.5372 Validation Accuracy: 0.466200\n",
      "Epoch  4, CIFAR-10 Batch 4:  Loss:     1.4781 Validation Accuracy: 0.475600\n",
      "Epoch  4, CIFAR-10 Batch 5:  Loss:     1.4738 Validation Accuracy: 0.474600\n",
      "Epoch  5, CIFAR-10 Batch 1:  Loss:     1.4703 Validation Accuracy: 0.486200\n",
      "Epoch  5, CIFAR-10 Batch 2:  Loss:     1.5138 Validation Accuracy: 0.474800\n",
      "Epoch  5, CIFAR-10 Batch 3:  Loss:     1.4501 Validation Accuracy: 0.488000\n",
      "Epoch  5, CIFAR-10 Batch 4:  Loss:     1.4182 Validation Accuracy: 0.489800\n",
      "Epoch  5, CIFAR-10 Batch 5:  Loss:     1.4300 Validation Accuracy: 0.487800\n",
      "Epoch  6, CIFAR-10 Batch 1:  Loss:     1.4348 Validation Accuracy: 0.494000\n",
      "Epoch  6, CIFAR-10 Batch 2:  Loss:     1.4302 Validation Accuracy: 0.507400\n",
      "Epoch  6, CIFAR-10 Batch 3:  Loss:     1.4288 Validation Accuracy: 0.510000\n",
      "Epoch  6, CIFAR-10 Batch 4:  Loss:     1.3700 Validation Accuracy: 0.504200\n",
      "Epoch  6, CIFAR-10 Batch 5:  Loss:     1.3619 Validation Accuracy: 0.513000\n",
      "Epoch  7, CIFAR-10 Batch 1:  Loss:     1.3575 Validation Accuracy: 0.518800\n",
      "Epoch  7, CIFAR-10 Batch 2:  Loss:     1.3843 Validation Accuracy: 0.521800\n",
      "Epoch  7, CIFAR-10 Batch 3:  Loss:     1.3508 Validation Accuracy: 0.524200\n",
      "Epoch  7, CIFAR-10 Batch 4:  Loss:     1.3196 Validation Accuracy: 0.517400\n",
      "Epoch  7, CIFAR-10 Batch 5:  Loss:     1.3256 Validation Accuracy: 0.529000\n",
      "Epoch  8, CIFAR-10 Batch 1:  Loss:     1.3150 Validation Accuracy: 0.553800\n",
      "Epoch  8, CIFAR-10 Batch 2:  Loss:     1.3163 Validation Accuracy: 0.569400\n",
      "Epoch  8, CIFAR-10 Batch 3:  Loss:     1.2694 Validation Accuracy: 0.558200\n",
      "Epoch  8, CIFAR-10 Batch 4:  Loss:     1.2329 Validation Accuracy: 0.567400\n",
      "Epoch  8, CIFAR-10 Batch 5:  Loss:     1.2406 Validation Accuracy: 0.574200\n",
      "Epoch  9, CIFAR-10 Batch 1:  Loss:     1.2427 Validation Accuracy: 0.578200\n",
      "Epoch  9, CIFAR-10 Batch 2:  Loss:     1.2684 Validation Accuracy: 0.579200\n",
      "Epoch  9, CIFAR-10 Batch 3:  Loss:     1.2498 Validation Accuracy: 0.567400\n",
      "Epoch  9, CIFAR-10 Batch 4:  Loss:     1.2069 Validation Accuracy: 0.568800\n",
      "Epoch  9, CIFAR-10 Batch 5:  Loss:     1.1948 Validation Accuracy: 0.579800\n",
      "Epoch 10, CIFAR-10 Batch 1:  Loss:     1.2277 Validation Accuracy: 0.575400\n",
      "Epoch 10, CIFAR-10 Batch 2:  Loss:     1.2382 Validation Accuracy: 0.588800\n",
      "Epoch 10, CIFAR-10 Batch 3:  Loss:     1.1917 Validation Accuracy: 0.585400\n",
      "Epoch 10, CIFAR-10 Batch 4:  Loss:     1.1799 Validation Accuracy: 0.575200\n",
      "Epoch 10, CIFAR-10 Batch 5:  Loss:     1.1564 Validation Accuracy: 0.588600\n",
      "Epoch 11, CIFAR-10 Batch 1:  Loss:     1.2003 Validation Accuracy: 0.578800\n",
      "Epoch 11, CIFAR-10 Batch 2:  Loss:     1.1940 Validation Accuracy: 0.599000\n",
      "Epoch 11, CIFAR-10 Batch 3:  Loss:     1.1573 Validation Accuracy: 0.593400\n",
      "Epoch 11, CIFAR-10 Batch 4:  Loss:     1.1376 Validation Accuracy: 0.589400\n",
      "Epoch 11, CIFAR-10 Batch 5:  Loss:     1.1148 Validation Accuracy: 0.600200\n",
      "Epoch 12, CIFAR-10 Batch 1:  Loss:     1.1625 Validation Accuracy: 0.585200\n",
      "Epoch 12, CIFAR-10 Batch 2:  Loss:     1.1658 Validation Accuracy: 0.605800\n",
      "Epoch 12, CIFAR-10 Batch 3:  Loss:     1.1433 Validation Accuracy: 0.594400\n",
      "Epoch 12, CIFAR-10 Batch 4:  Loss:     1.1222 Validation Accuracy: 0.590600\n",
      "Epoch 12, CIFAR-10 Batch 5:  Loss:     1.0863 Validation Accuracy: 0.605400\n",
      "Epoch 13, CIFAR-10 Batch 1:  Loss:     1.1294 Validation Accuracy: 0.592200\n",
      "Epoch 13, CIFAR-10 Batch 2:  Loss:     1.1351 Validation Accuracy: 0.608200\n",
      "Epoch 13, CIFAR-10 Batch 3:  Loss:     1.1404 Validation Accuracy: 0.595400\n",
      "Epoch 13, CIFAR-10 Batch 4:  Loss:     1.0822 Validation Accuracy: 0.604200\n",
      "Epoch 13, CIFAR-10 Batch 5:  Loss:     1.0533 Validation Accuracy: 0.615200\n",
      "Epoch 14, CIFAR-10 Batch 1:  Loss:     1.1078 Validation Accuracy: 0.598600\n",
      "Epoch 14, CIFAR-10 Batch 2:  Loss:     1.1265 Validation Accuracy: 0.612600\n",
      "Epoch 14, CIFAR-10 Batch 3:  Loss:     0.9610 Validation Accuracy: 0.627000\n",
      "Epoch 14, CIFAR-10 Batch 4:  Loss:     0.9098 Validation Accuracy: 0.627600\n",
      "Epoch 14, CIFAR-10 Batch 5:  Loss:     0.8973 Validation Accuracy: 0.633800\n",
      "Epoch 15, CIFAR-10 Batch 1:  Loss:     0.9328 Validation Accuracy: 0.631200\n",
      "Epoch 15, CIFAR-10 Batch 2:  Loss:     0.9247 Validation Accuracy: 0.645200\n",
      "Epoch 15, CIFAR-10 Batch 3:  Loss:     0.8836 Validation Accuracy: 0.637200\n",
      "Epoch 15, CIFAR-10 Batch 4:  Loss:     0.8666 Validation Accuracy: 0.640000\n",
      "Epoch 15, CIFAR-10 Batch 5:  Loss:     0.8401 Validation Accuracy: 0.646000\n",
      "Epoch 16, CIFAR-10 Batch 1:  Loss:     0.8891 Validation Accuracy: 0.640400\n",
      "Epoch 16, CIFAR-10 Batch 2:  Loss:     0.8846 Validation Accuracy: 0.642600\n",
      "Epoch 16, CIFAR-10 Batch 3:  Loss:     0.8397 Validation Accuracy: 0.644400\n",
      "Epoch 16, CIFAR-10 Batch 4:  Loss:     0.8252 Validation Accuracy: 0.648200\n",
      "Epoch 16, CIFAR-10 Batch 5:  Loss:     0.8128 Validation Accuracy: 0.651800\n",
      "Epoch 17, CIFAR-10 Batch 1:  Loss:     0.8568 Validation Accuracy: 0.644600\n",
      "Epoch 17, CIFAR-10 Batch 2:  Loss:     0.8401 Validation Accuracy: 0.656200\n",
      "Epoch 17, CIFAR-10 Batch 3:  Loss:     0.8029 Validation Accuracy: 0.649800\n",
      "Epoch 17, CIFAR-10 Batch 4:  Loss:     0.7987 Validation Accuracy: 0.647000\n",
      "Epoch 17, CIFAR-10 Batch 5:  Loss:     0.7790 Validation Accuracy: 0.657200\n",
      "Epoch 18, CIFAR-10 Batch 1:  Loss:     0.8288 Validation Accuracy: 0.651200\n",
      "Epoch 18, CIFAR-10 Batch 2:  Loss:     0.8223 Validation Accuracy: 0.657200\n",
      "Epoch 18, CIFAR-10 Batch 3:  Loss:     0.7817 Validation Accuracy: 0.652000\n",
      "Epoch 18, CIFAR-10 Batch 4:  Loss:     0.7668 Validation Accuracy: 0.657800\n",
      "Epoch 18, CIFAR-10 Batch 5:  Loss:     0.7517 Validation Accuracy: 0.663000\n",
      "Epoch 19, CIFAR-10 Batch 1:  Loss:     0.8086 Validation Accuracy: 0.650000\n",
      "Epoch 19, CIFAR-10 Batch 2:  Loss:     0.8101 Validation Accuracy: 0.653800\n",
      "Epoch 19, CIFAR-10 Batch 3:  Loss:     0.7622 Validation Accuracy: 0.656000\n",
      "Epoch 19, CIFAR-10 Batch 4:  Loss:     0.7334 Validation Accuracy: 0.665800\n",
      "Epoch 19, CIFAR-10 Batch 5:  Loss:     0.7325 Validation Accuracy: 0.660200\n",
      "Epoch 20, CIFAR-10 Batch 1:  Loss:     0.7862 Validation Accuracy: 0.657200\n",
      "Epoch 20, CIFAR-10 Batch 2:  Loss:     0.7596 Validation Accuracy: 0.666200\n",
      "Epoch 20, CIFAR-10 Batch 3:  Loss:     0.7329 Validation Accuracy: 0.664000\n",
      "Epoch 20, CIFAR-10 Batch 4:  Loss:     0.7086 Validation Accuracy: 0.669200\n",
      "Epoch 20, CIFAR-10 Batch 5:  Loss:     0.7156 Validation Accuracy: 0.666000\n",
      "Epoch 21, CIFAR-10 Batch 1:  Loss:     0.7586 Validation Accuracy: 0.663000\n",
      "Epoch 21, CIFAR-10 Batch 2:  Loss:     0.7493 Validation Accuracy: 0.664000\n",
      "Epoch 21, CIFAR-10 Batch 3:  Loss:     0.6977 Validation Accuracy: 0.668000\n",
      "Epoch 21, CIFAR-10 Batch 4:  Loss:     0.6928 Validation Accuracy: 0.669800\n",
      "Epoch 21, CIFAR-10 Batch 5:  Loss:     0.6879 Validation Accuracy: 0.671600\n",
      "Epoch 22, CIFAR-10 Batch 1:  Loss:     0.7309 Validation Accuracy: 0.668400\n",
      "Epoch 22, CIFAR-10 Batch 2:  Loss:     0.7088 Validation Accuracy: 0.678200\n",
      "Epoch 22, CIFAR-10 Batch 3:  Loss:     0.6654 Validation Accuracy: 0.682800\n",
      "Epoch 22, CIFAR-10 Batch 4:  Loss:     0.6653 Validation Accuracy: 0.670400\n",
      "Epoch 22, CIFAR-10 Batch 5:  Loss:     0.6659 Validation Accuracy: 0.668200\n",
      "Epoch 23, CIFAR-10 Batch 1:  Loss:     0.7005 Validation Accuracy: 0.671000\n",
      "Epoch 23, CIFAR-10 Batch 2:  Loss:     0.7047 Validation Accuracy: 0.677400\n",
      "Epoch 23, CIFAR-10 Batch 3:  Loss:     0.6513 Validation Accuracy: 0.684400\n",
      "Epoch 23, CIFAR-10 Batch 4:  Loss:     0.6398 Validation Accuracy: 0.673800\n",
      "Epoch 23, CIFAR-10 Batch 5:  Loss:     0.6623 Validation Accuracy: 0.668400\n",
      "Epoch 24, CIFAR-10 Batch 1:  Loss:     0.6860 Validation Accuracy: 0.671600\n",
      "Epoch 24, CIFAR-10 Batch 2:  Loss:     0.6924 Validation Accuracy: 0.670800\n",
      "Epoch 24, CIFAR-10 Batch 3:  Loss:     0.6387 Validation Accuracy: 0.678200\n",
      "Epoch 24, CIFAR-10 Batch 4:  Loss:     0.6137 Validation Accuracy: 0.683200\n",
      "Epoch 24, CIFAR-10 Batch 5:  Loss:     0.6214 Validation Accuracy: 0.676000\n",
      "Epoch 25, CIFAR-10 Batch 1:  Loss:     0.6648 Validation Accuracy: 0.673600\n",
      "Epoch 25, CIFAR-10 Batch 2:  Loss:     0.6736 Validation Accuracy: 0.667800\n",
      "Epoch 25, CIFAR-10 Batch 3:  Loss:     0.6303 Validation Accuracy: 0.676600\n",
      "Epoch 25, CIFAR-10 Batch 4:  Loss:     0.6216 Validation Accuracy: 0.676800\n",
      "Epoch 25, CIFAR-10 Batch 5:  Loss:     0.6257 Validation Accuracy: 0.669200\n",
      "Epoch 26, CIFAR-10 Batch 1:  Loss:     0.6772 Validation Accuracy: 0.666800\n",
      "Epoch 26, CIFAR-10 Batch 2:  Loss:     0.6444 Validation Accuracy: 0.679600\n",
      "Epoch 26, CIFAR-10 Batch 3:  Loss:     0.6263 Validation Accuracy: 0.676400\n",
      "Epoch 26, CIFAR-10 Batch 4:  Loss:     0.6133 Validation Accuracy: 0.674200\n",
      "Epoch 26, CIFAR-10 Batch 5:  Loss:     0.5956 Validation Accuracy: 0.680200\n",
      "Epoch 27, CIFAR-10 Batch 1:  Loss:     0.6307 Validation Accuracy: 0.685000\n",
      "Epoch 27, CIFAR-10 Batch 2:  Loss:     0.6513 Validation Accuracy: 0.671000\n",
      "Epoch 27, CIFAR-10 Batch 3:  Loss:     0.6575 Validation Accuracy: 0.665000\n",
      "Epoch 27, CIFAR-10 Batch 4:  Loss:     0.5968 Validation Accuracy: 0.675800\n",
      "Epoch 27, CIFAR-10 Batch 5:  Loss:     0.5774 Validation Accuracy: 0.679200\n",
      "Epoch 28, CIFAR-10 Batch 1:  Loss:     0.6105 Validation Accuracy: 0.687600\n",
      "Epoch 28, CIFAR-10 Batch 2:  Loss:     0.5997 Validation Accuracy: 0.684200\n",
      "Epoch 28, CIFAR-10 Batch 3:  Loss:     0.5950 Validation Accuracy: 0.686800\n",
      "Epoch 28, CIFAR-10 Batch 4:  Loss:     0.5728 Validation Accuracy: 0.679400\n",
      "Epoch 28, CIFAR-10 Batch 5:  Loss:     0.5536 Validation Accuracy: 0.680200\n",
      "Epoch 29, CIFAR-10 Batch 1:  Loss:     0.6061 Validation Accuracy: 0.692000\n",
      "Epoch 29, CIFAR-10 Batch 2:  Loss:     0.5849 Validation Accuracy: 0.688600\n",
      "Epoch 29, CIFAR-10 Batch 3:  Loss:     0.5436 Validation Accuracy: 0.692600\n",
      "Epoch 29, CIFAR-10 Batch 4:  Loss:     0.5483 Validation Accuracy: 0.691800\n",
      "Epoch 29, CIFAR-10 Batch 5:  Loss:     0.5409 Validation Accuracy: 0.679400\n",
      "Epoch 30, CIFAR-10 Batch 1:  Loss:     0.5609 Validation Accuracy: 0.697800\n",
      "Epoch 30, CIFAR-10 Batch 2:  Loss:     0.5537 Validation Accuracy: 0.694800\n",
      "Epoch 30, CIFAR-10 Batch 3:  Loss:     0.5200 Validation Accuracy: 0.694800\n",
      "Epoch 30, CIFAR-10 Batch 4:  Loss:     0.5367 Validation Accuracy: 0.692600\n",
      "Epoch 30, CIFAR-10 Batch 5:  Loss:     0.5096 Validation Accuracy: 0.680400\n",
      "Epoch 31, CIFAR-10 Batch 1:  Loss:     0.5411 Validation Accuracy: 0.692400\n",
      "Epoch 31, CIFAR-10 Batch 2:  Loss:     0.5424 Validation Accuracy: 0.690600\n",
      "Epoch 31, CIFAR-10 Batch 3:  Loss:     0.5124 Validation Accuracy: 0.685000\n",
      "Epoch 31, CIFAR-10 Batch 4:  Loss:     0.5224 Validation Accuracy: 0.689800\n",
      "Epoch 31, CIFAR-10 Batch 5:  Loss:     0.5026 Validation Accuracy: 0.677600\n",
      "Epoch 32, CIFAR-10 Batch 1:  Loss:     0.5383 Validation Accuracy: 0.683400\n",
      "Epoch 32, CIFAR-10 Batch 2:  Loss:     0.5374 Validation Accuracy: 0.691600\n",
      "Epoch 32, CIFAR-10 Batch 3:  Loss:     0.4855 Validation Accuracy: 0.694400\n",
      "Epoch 32, CIFAR-10 Batch 4:  Loss:     0.5003 Validation Accuracy: 0.690600\n",
      "Epoch 32, CIFAR-10 Batch 5:  Loss:     0.4599 Validation Accuracy: 0.686400\n",
      "Epoch 33, CIFAR-10 Batch 1:  Loss:     0.5207 Validation Accuracy: 0.692000\n",
      "Epoch 33, CIFAR-10 Batch 2:  Loss:     0.5136 Validation Accuracy: 0.694800\n",
      "Epoch 33, CIFAR-10 Batch 3:  Loss:     0.4601 Validation Accuracy: 0.697200\n",
      "Epoch 33, CIFAR-10 Batch 4:  Loss:     0.4639 Validation Accuracy: 0.691600\n",
      "Epoch 33, CIFAR-10 Batch 5:  Loss:     0.4427 Validation Accuracy: 0.690200\n",
      "Epoch 34, CIFAR-10 Batch 1:  Loss:     0.5065 Validation Accuracy: 0.697200\n",
      "Epoch 34, CIFAR-10 Batch 2:  Loss:     0.4817 Validation Accuracy: 0.699400\n",
      "Epoch 34, CIFAR-10 Batch 3:  Loss:     0.4540 Validation Accuracy: 0.695800\n",
      "Epoch 34, CIFAR-10 Batch 4:  Loss:     0.4403 Validation Accuracy: 0.698800\n",
      "Epoch 34, CIFAR-10 Batch 5:  Loss:     0.4330 Validation Accuracy: 0.690400\n",
      "Epoch 35, CIFAR-10 Batch 1:  Loss:     0.4835 Validation Accuracy: 0.698400\n",
      "Epoch 35, CIFAR-10 Batch 2:  Loss:     0.4661 Validation Accuracy: 0.702400\n",
      "Epoch 35, CIFAR-10 Batch 3:  Loss:     0.4477 Validation Accuracy: 0.686800\n",
      "Epoch 35, CIFAR-10 Batch 4:  Loss:     0.4443 Validation Accuracy: 0.689000\n",
      "Epoch 35, CIFAR-10 Batch 5:  Loss:     0.4227 Validation Accuracy: 0.695400\n",
      "Epoch 36, CIFAR-10 Batch 1:  Loss:     0.4720 Validation Accuracy: 0.700600\n",
      "Epoch 36, CIFAR-10 Batch 2:  Loss:     0.4674 Validation Accuracy: 0.693000\n",
      "Epoch 36, CIFAR-10 Batch 3:  Loss:     0.4508 Validation Accuracy: 0.681600\n",
      "Epoch 36, CIFAR-10 Batch 4:  Loss:     0.4535 Validation Accuracy: 0.680800\n",
      "Epoch 36, CIFAR-10 Batch 5:  Loss:     0.4209 Validation Accuracy: 0.690400\n",
      "Epoch 37, CIFAR-10 Batch 1:  Loss:     0.4616 Validation Accuracy: 0.691600\n",
      "Epoch 37, CIFAR-10 Batch 2:  Loss:     0.4818 Validation Accuracy: 0.685000\n",
      "Epoch 37, CIFAR-10 Batch 3:  Loss:     0.4210 Validation Accuracy: 0.689400\n",
      "Epoch 37, CIFAR-10 Batch 4:  Loss:     0.4247 Validation Accuracy: 0.686800\n",
      "Epoch 37, CIFAR-10 Batch 5:  Loss:     0.3833 Validation Accuracy: 0.694800\n",
      "Epoch 38, CIFAR-10 Batch 1:  Loss:     0.4485 Validation Accuracy: 0.699600\n",
      "Epoch 38, CIFAR-10 Batch 2:  Loss:     0.4400 Validation Accuracy: 0.699000\n",
      "Epoch 38, CIFAR-10 Batch 3:  Loss:     0.4007 Validation Accuracy: 0.685600\n",
      "Epoch 38, CIFAR-10 Batch 4:  Loss:     0.4000 Validation Accuracy: 0.690800\n",
      "Epoch 38, CIFAR-10 Batch 5:  Loss:     0.3816 Validation Accuracy: 0.696800\n",
      "Epoch 39, CIFAR-10 Batch 1:  Loss:     0.4243 Validation Accuracy: 0.705200\n",
      "Epoch 39, CIFAR-10 Batch 2:  Loss:     0.4321 Validation Accuracy: 0.698000\n",
      "Epoch 39, CIFAR-10 Batch 3:  Loss:     0.3716 Validation Accuracy: 0.702600\n",
      "Epoch 39, CIFAR-10 Batch 4:  Loss:     0.4046 Validation Accuracy: 0.684800\n",
      "Epoch 39, CIFAR-10 Batch 5:  Loss:     0.3478 Validation Accuracy: 0.706800\n",
      "Epoch 40, CIFAR-10 Batch 1:  Loss:     0.4078 Validation Accuracy: 0.700200\n",
      "Epoch 40, CIFAR-10 Batch 2:  Loss:     0.4003 Validation Accuracy: 0.703800\n",
      "Epoch 40, CIFAR-10 Batch 3:  Loss:     0.3707 Validation Accuracy: 0.701800\n",
      "Epoch 40, CIFAR-10 Batch 4:  Loss:     0.3911 Validation Accuracy: 0.686800\n",
      "Epoch 40, CIFAR-10 Batch 5:  Loss:     0.3507 Validation Accuracy: 0.698800\n",
      "Epoch 41, CIFAR-10 Batch 1:  Loss:     0.3868 Validation Accuracy: 0.699600\n",
      "Epoch 41, CIFAR-10 Batch 2:  Loss:     0.3956 Validation Accuracy: 0.697200\n",
      "Epoch 41, CIFAR-10 Batch 3:  Loss:     0.3487 Validation Accuracy: 0.703200\n",
      "Epoch 41, CIFAR-10 Batch 4:  Loss:     0.3489 Validation Accuracy: 0.694200\n",
      "Epoch 41, CIFAR-10 Batch 5:  Loss:     0.3339 Validation Accuracy: 0.704800\n",
      "Epoch 42, CIFAR-10 Batch 1:  Loss:     0.3748 Validation Accuracy: 0.702400\n",
      "Epoch 42, CIFAR-10 Batch 2:  Loss:     0.3902 Validation Accuracy: 0.697400\n",
      "Epoch 42, CIFAR-10 Batch 3:  Loss:     0.3331 Validation Accuracy: 0.706000\n",
      "Epoch 42, CIFAR-10 Batch 4:  Loss:     0.3341 Validation Accuracy: 0.700400\n",
      "Epoch 42, CIFAR-10 Batch 5:  Loss:     0.3272 Validation Accuracy: 0.699000\n",
      "Epoch 43, CIFAR-10 Batch 1:  Loss:     0.3699 Validation Accuracy: 0.701000\n",
      "Epoch 43, CIFAR-10 Batch 2:  Loss:     0.3585 Validation Accuracy: 0.707200\n",
      "Epoch 43, CIFAR-10 Batch 3:  Loss:     0.3335 Validation Accuracy: 0.704000\n",
      "Epoch 43, CIFAR-10 Batch 4:  Loss:     0.3405 Validation Accuracy: 0.692000\n",
      "Epoch 43, CIFAR-10 Batch 5:  Loss:     0.3076 Validation Accuracy: 0.703200\n",
      "Epoch 44, CIFAR-10 Batch 1:  Loss:     0.3530 Validation Accuracy: 0.703200\n",
      "Epoch 44, CIFAR-10 Batch 2:  Loss:     0.3760 Validation Accuracy: 0.694800\n",
      "Epoch 44, CIFAR-10 Batch 3:  Loss:     0.3202 Validation Accuracy: 0.705000\n",
      "Epoch 44, CIFAR-10 Batch 4:  Loss:     0.3365 Validation Accuracy: 0.695600\n",
      "Epoch 44, CIFAR-10 Batch 5:  Loss:     0.3225 Validation Accuracy: 0.693600\n",
      "Epoch 45, CIFAR-10 Batch 1:  Loss:     0.3565 Validation Accuracy: 0.698400\n",
      "Epoch 45, CIFAR-10 Batch 2:  Loss:     0.3590 Validation Accuracy: 0.691600\n",
      "Epoch 45, CIFAR-10 Batch 3:  Loss:     0.3325 Validation Accuracy: 0.699600\n",
      "Epoch 45, CIFAR-10 Batch 4:  Loss:     0.3201 Validation Accuracy: 0.691600\n",
      "Epoch 45, CIFAR-10 Batch 5:  Loss:     0.3312 Validation Accuracy: 0.694200\n",
      "Epoch 46, CIFAR-10 Batch 1:  Loss:     0.3578 Validation Accuracy: 0.696000\n",
      "Epoch 46, CIFAR-10 Batch 2:  Loss:     0.3537 Validation Accuracy: 0.696200\n",
      "Epoch 46, CIFAR-10 Batch 3:  Loss:     0.3288 Validation Accuracy: 0.698000\n",
      "Epoch 46, CIFAR-10 Batch 4:  Loss:     0.2959 Validation Accuracy: 0.699200\n",
      "Epoch 46, CIFAR-10 Batch 5:  Loss:     0.3204 Validation Accuracy: 0.697800\n",
      "Epoch 47, CIFAR-10 Batch 1:  Loss:     0.3354 Validation Accuracy: 0.693600\n",
      "Epoch 47, CIFAR-10 Batch 2:  Loss:     0.3747 Validation Accuracy: 0.686000\n",
      "Epoch 47, CIFAR-10 Batch 3:  Loss:     0.2847 Validation Accuracy: 0.695800\n",
      "Epoch 47, CIFAR-10 Batch 4:  Loss:     0.2856 Validation Accuracy: 0.699800\n",
      "Epoch 47, CIFAR-10 Batch 5:  Loss:     0.2957 Validation Accuracy: 0.697000\n",
      "Epoch 48, CIFAR-10 Batch 1:  Loss:     0.3369 Validation Accuracy: 0.699600\n",
      "Epoch 48, CIFAR-10 Batch 2:  Loss:     0.3418 Validation Accuracy: 0.685000\n",
      "Epoch 48, CIFAR-10 Batch 3:  Loss:     0.2928 Validation Accuracy: 0.686800\n",
      "Epoch 48, CIFAR-10 Batch 4:  Loss:     0.2767 Validation Accuracy: 0.706400\n",
      "Epoch 48, CIFAR-10 Batch 5:  Loss:     0.2564 Validation Accuracy: 0.703800\n",
      "Epoch 49, CIFAR-10 Batch 1:  Loss:     0.3078 Validation Accuracy: 0.701800\n",
      "Epoch 49, CIFAR-10 Batch 2:  Loss:     0.3279 Validation Accuracy: 0.687200\n",
      "Epoch 49, CIFAR-10 Batch 3:  Loss:     0.2624 Validation Accuracy: 0.695000\n",
      "Epoch 49, CIFAR-10 Batch 4:  Loss:     0.2889 Validation Accuracy: 0.693400\n",
      "Epoch 49, CIFAR-10 Batch 5:  Loss:     0.2492 Validation Accuracy: 0.709800\n",
      "Epoch 50, CIFAR-10 Batch 1:  Loss:     0.3002 Validation Accuracy: 0.699400\n",
      "Epoch 50, CIFAR-10 Batch 2:  Loss:     0.2979 Validation Accuracy: 0.693400\n",
      "Epoch 50, CIFAR-10 Batch 3:  Loss:     0.2522 Validation Accuracy: 0.695200\n",
      "Epoch 50, CIFAR-10 Batch 4:  Loss:     0.2607 Validation Accuracy: 0.697200\n",
      "Epoch 50, CIFAR-10 Batch 5:  Loss:     0.2443 Validation Accuracy: 0.699600\n"
     ]
    }
   ],
   "source": [
    "\"\"\"\n",
    "DON'T MODIFY ANYTHING IN THIS CELL\n",
    "\"\"\"\n",
    "save_model_path = './image_classification'\n",
    "\n",
    "print('Training...')\n",
    "with tf.Session() as sess:\n",
    "    # Initializing the variables\n",
    "    sess.run(tf.global_variables_initializer())\n",
    "    \n",
    "    # Training cycle\n",
    "    for epoch in range(epochs):\n",
    "        # Loop over all batches\n",
    "        n_batches = 5\n",
    "        for batch_i in range(1, n_batches + 1):\n",
    "            for batch_features, batch_labels in helper.load_preprocess_training_batch(batch_i, batch_size):\n",
    "                train_neural_network(sess, optimizer, keep_probability, batch_features, batch_labels)\n",
    "            print('Epoch {:>2}, CIFAR-10 Batch {}:  '.format(epoch + 1, batch_i), end='')\n",
    "            print_stats(sess, batch_features, batch_labels, cost, accuracy)\n",
    "            \n",
    "    # Save Model\n",
    "    saver = tf.train.Saver()\n",
    "    save_path = saver.save(sess, save_model_path)"
   ]
  },
  {
   "cell_type": "markdown",
   "metadata": {
    "deletable": true,
    "editable": true
   },
   "source": [
    "# Checkpoint\n",
    "The model has been saved to disk.\n",
    "## Test Model\n",
    "Test your model against the test dataset.  This will be your final accuracy. You should have an accuracy greater than 50%. If you don't, keep tweaking the model architecture and parameters."
   ]
  },
  {
   "cell_type": "code",
   "execution_count": 50,
   "metadata": {
    "collapsed": false,
    "deletable": true,
    "editable": true
   },
   "outputs": [
    {
     "name": "stdout",
     "output_type": "stream",
     "text": [
      "Testing Accuracy: 0.6921795308589935\n",
      "\n"
     ]
    },
    {
     "data": {
      "image/png": "[encoded data removed]",
      "text/plain": [
       "<matplotlib.figure.Figure at 0x7f1f62f0e0f0>"
      ]
     },
     "metadata": {
      "image/png": {
       "height": 319,
       "width": 355
      }
     },
     "output_type": "display_data"
    }
   ],
   "source": [
    "\"\"\"\n",
    "DON'T MODIFY ANYTHING IN THIS CELL\n",
    "\"\"\"\n",
    "%matplotlib inline\n",
    "%config InlineBackend.figure_format = 'retina'\n",
    "\n",
    "import tensorflow as tf\n",
    "import pickle\n",
    "import helper\n",
    "import random\n",
    "\n",
    "# Set batch size if not already set\n",
    "try:\n",
    "    if batch_size:\n",
    "        pass\n",
    "except NameError:\n",
    "    batch_size = 64\n",
    "\n",
    "save_model_path = './image_classification'\n",
    "n_samples = 4\n",
    "top_n_predictions = 3\n",
    "\n",
    "def test_model():\n",
    "    \"\"\"\n",
    "    Test the saved model against the test dataset\n",
    "    \"\"\"\n",
    "\n",
    "    test_features, test_labels = pickle.load(open('preprocess_training.p', mode='rb'))\n",
    "    loaded_graph = tf.Graph()\n",
    "\n",
    "    with tf.Session(graph=loaded_graph) as sess:\n",
    "        # Load model\n",
    "        loader = tf.train.import_meta_graph(save_model_path + '.meta')\n",
    "        loader.restore(sess, save_model_path)\n",
    "\n",
    "        # Get Tensors from loaded model\n",
    "        loaded_x = loaded_graph.get_tensor_by_name('x:0')\n",
    "        loaded_y = loaded_graph.get_tensor_by_name('y:0')\n",
    "        loaded_keep_prob = loaded_graph.get_tensor_by_name('keep_prob:0')\n",
    "        loaded_logits = loaded_graph.get_tensor_by_name('logits:0')\n",
    "        loaded_acc = loaded_graph.get_tensor_by_name('accuracy:0')\n",
    "        \n",
    "        # Get accuracy in batches for memory limitations\n",
    "        test_batch_acc_total = 0\n",
    "        test_batch_count = 0\n",
    "        \n",
    "        for train_feature_batch, train_label_batch in helper.batch_features_labels(test_features, test_labels, batch_size):\n",
    "            test_batch_acc_total += sess.run(\n",
    "                loaded_acc,\n",
    "                feed_dict={loaded_x: train_feature_batch, loaded_y: train_label_batch, loaded_keep_prob: 1.0})\n",
    "            test_batch_count += 1\n",
    "\n",
    "        print('Testing Accuracy: {}\\n'.format(test_batch_acc_total/test_batch_count))\n",
    "\n",
    "        # Print Random Samples\n",
    "        random_test_features, random_test_labels = tuple(zip(*random.sample(list(zip(test_features, test_labels)), n_samples)))\n",
    "        random_test_predictions = sess.run(\n",
    "            tf.nn.top_k(tf.nn.softmax(loaded_logits), top_n_predictions),\n",
    "            feed_dict={loaded_x: random_test_features, loaded_y: random_test_labels, loaded_keep_prob: 1.0})\n",
    "        helper.display_image_predictions(random_test_features, random_test_labels, random_test_predictions)\n",
    "\n",
    "\n",
    "test_model()"
   ]
  },
  {
   "cell_type": "markdown",
   "metadata": {
    "deletable": true,
    "editable": true
   },
   "source": [
    "## Why 50-80% Accuracy?\n",
    "You might be wondering why you can't get an accuracy any higher. First things first, 50% isn't bad for a simple CNN.  Pure guessing would get you 10% accuracy. However, you might notice people are getting scores [well above 80%](http://rodrigob.github.io/are_we_there_yet/build/classification_datasets_results.html#43494641522d3130).  That's because we haven't taught you all there is to know about neural networks. We still need to cover a few more techniques.\n",
    "## Submitting This Project\n",
    "When submitting this project, make sure to run all the cells before saving the notebook.  Save the notebook file as \"dlnd_image_classification.ipynb\" and save it as a HTML file under \"File\" -> \"Download as\".  Include the \"helper.py\" and \"problem_unittests.py\" files in your submission."
   ]
  },
  {
   "cell_type": "code",
   "execution_count": null,
   "metadata": {
    "collapsed": true
   },
   "outputs": [],
   "source": []
  }
 ],
 "metadata": {
  "kernelspec": {
   "display_name": "Python 3",
   "language": "python",
   "name": "python3"
  },
  "language_info": {
   "codemirror_mode": {
    "name": "ipython",
    "version": 3
   },
   "file_extension": ".py",
   "mimetype": "text/x-python",
   "name": "python",
   "nbconvert_exporter": "python",
   "pygments_lexer": "ipython3",
   "version": "3.5.2"
  },
  "widgets": {
   "state": {},
   "version": "1.1.2"
  }
 },
 "nbformat": 4,
 "nbformat_minor": 0
}
