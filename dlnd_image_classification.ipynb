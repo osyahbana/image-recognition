{
 "cells": [
  {
   "cell_type": "markdown",
   "metadata": {
    "collapsed": true,
    "deletable": true,
    "editable": true
   },
   "source": [
    "# Image Classification\n",
    "In this project, you'll classify images from the [CIFAR-10 dataset](https://www.cs.toronto.edu/~kriz/cifar.html).  The dataset consists of airplanes, dogs, cats, and other objects. You'll preprocess the images, then train a convolutional neural network on all the samples. The images need to be normalized and the labels need to be one-hot encoded.  You'll get to apply what you learned and build a convolutional, max pooling, dropout, and fully connected layers.  At the end, you'll get to see your neural network's predictions on the sample images.\n",
    "## Get the Data\n",
    "Run the following cell to download the [CIFAR-10 dataset for python](https://www.cs.toronto.edu/~kriz/cifar-10-python.tar.gz)."
   ]
  },
  {
   "cell_type": "code",
   "execution_count": 1,
   "metadata": {
    "collapsed": false,
    "deletable": true,
    "editable": true
   },
   "outputs": [
    {
     "name": "stdout",
     "output_type": "stream",
     "text": [
      "All files found!\n"
     ]
    }
   ],
   "source": [
    "\"\"\"\n",
    "DON'T MODIFY ANYTHING IN THIS CELL THAT IS BELOW THIS LINE\n",
    "\"\"\"\n",
    "from urllib.request import urlretrieve\n",
    "from os.path import isfile, isdir\n",
    "from tqdm import tqdm\n",
    "import problem_unittests as tests\n",
    "import tarfile\n",
    "\n",
    "cifar10_dataset_folder_path = 'cifar-10-batches-py'\n",
    "\n",
    "class DLProgress(tqdm):\n",
    "    last_block = 0\n",
    "\n",
    "    def hook(self, block_num=1, block_size=1, total_size=None):\n",
    "        self.total = total_size\n",
    "        self.update((block_num - self.last_block) * block_size)\n",
    "        self.last_block = block_num\n",
    "\n",
    "if not isfile('cifar-10-python.tar.gz'):\n",
    "    with DLProgress(unit='B', unit_scale=True, miniters=1, desc='CIFAR-10 Dataset') as pbar:\n",
    "        urlretrieve(\n",
    "            'https://www.cs.toronto.edu/~kriz/cifar-10-python.tar.gz',\n",
    "            'cifar-10-python.tar.gz',\n",
    "            pbar.hook)\n",
    "\n",
    "if not isdir(cifar10_dataset_folder_path):\n",
    "    with tarfile.open('cifar-10-python.tar.gz') as tar:\n",
    "        tar.extractall()\n",
    "        tar.close()\n",
    "\n",
    "\n",
    "tests.test_folder_path(cifar10_dataset_folder_path)"
   ]
  },
  {
   "cell_type": "markdown",
   "metadata": {
    "deletable": true,
    "editable": true
   },
   "source": [
    "## Explore the Data\n",
    "The dataset is broken into batches to prevent your machine from running out of memory.  The CIFAR-10 dataset consists of 5 batches, named `data_batch_1`, `data_batch_2`, etc.. Each batch contains the labels and images that are one of the following:\n",
    "* airplane\n",
    "* automobile\n",
    "* bird\n",
    "* cat\n",
    "* deer\n",
    "* dog\n",
    "* frog\n",
    "* horse\n",
    "* ship\n",
    "* truck\n",
    "\n",
    "Understanding a dataset is part of making predictions on the data.  Play around with the code cell below by changing the `batch_id` and `sample_id`. The `batch_id` is the id for a batch (1-5). The `sample_id` is the id for a image and label pair in the batch.\n",
    "\n",
    "Ask yourself \"What are all possible labels?\", \"What is the range of values for the image data?\", \"Are the labels in order or random?\".  Answers to questions like these will help you preprocess the data and end up with better predictions."
   ]
  },
  {
   "cell_type": "code",
   "execution_count": 2,
   "metadata": {
    "collapsed": false,
    "deletable": true,
    "editable": true
   },
   "outputs": [
    {
     "name": "stdout",
     "output_type": "stream",
     "text": [
      "\n",
      "Stats of batch 1:\n",
      "Samples: 10000\n",
      "Label Counts: {0: 1005, 1: 974, 2: 1032, 3: 1016, 4: 999, 5: 937, 6: 1030, 7: 1001, 8: 1025, 9: 981}\n",
      "First 20 Labels: [6, 9, 9, 4, 1, 1, 2, 7, 8, 3, 4, 7, 7, 2, 9, 9, 9, 3, 2, 6]\n",
      "\n",
      "Example of Image 5:\n",
      "Image - Min Value: 0 Max Value: 252\n",
      "Image - Shape: (32, 32, 3)\n",
      "Label - Label Id: 1 Name: automobile\n"
     ]
    },
    {
     "data": {
      "image/png": "[encoded data removed]",
      "text/plain": [
       "<matplotlib.figure.Figure at 0x7f4603cd4978>"
      ]
     },
     "metadata": {
      "image/png": {
       "height": 250,
       "width": 253
      }
     },
     "output_type": "display_data"
    }
   ],
   "source": [
    "%matplotlib inline\n",
    "%config InlineBackend.figure_format = 'retina'\n",
    "\n",
    "import helper\n",
    "import numpy as np\n",
    "\n",
    "# Explore the dataset\n",
    "batch_id = 1\n",
    "sample_id = 5\n",
    "helper.display_stats(cifar10_dataset_folder_path, batch_id, sample_id)"
   ]
  },
  {
   "cell_type": "markdown",
   "metadata": {
    "deletable": true,
    "editable": true
   },
   "source": [
    "## Implement Preprocess Functions\n",
    "### Normalize\n",
    "In the cell below, implement the `normalize` function to take in image data, `x`, and return it as a normalized Numpy array. The values should be in the range of 0 to 1, inclusive.  The return object should be the same shape as `x`."
   ]
  },
  {
   "cell_type": "code",
   "execution_count": 3,
   "metadata": {
    "collapsed": false,
    "deletable": true,
    "editable": true
   },
   "outputs": [
    {
     "name": "stdout",
     "output_type": "stream",
     "text": [
      "Tests Passed\n"
     ]
    }
   ],
   "source": [
    "def normalize(x):\n",
    "    \"\"\"\n",
    "    Normalize a list of sample image data in the range of 0 to 1\n",
    "    : x: List of image data.  The image shape is (32, 32, 3)\n",
    "    : return: Numpy array of normalize data\n",
    "    \"\"\"\n",
    "    # TODO: Implement Function\n",
    "    return np.array((x) / (255))\n",
    "\n",
    "\n",
    "\"\"\"\n",
    "DON'T MODIFY ANYTHING IN THIS CELL THAT IS BELOW THIS LINE\n",
    "\"\"\"\n",
    "tests.test_normalize(normalize)"
   ]
  },
  {
   "cell_type": "markdown",
   "metadata": {
    "deletable": true,
    "editable": true
   },
   "source": [
    "### One-hot encode\n",
    "Just like the previous code cell, you'll be implementing a function for preprocessing.  This time, you'll implement the `one_hot_encode` function. The input, `x`, are a list of labels.  Implement the function to return the list of labels as One-Hot encoded Numpy array.  The possible values for labels are 0 to 9. The one-hot encoding function should return the same encoding for each value between each call to `one_hot_encode`.  Make sure to save the map of encodings outside the function.\n",
    "\n",
    "Hint: Don't reinvent the wheel."
   ]
  },
  {
   "cell_type": "code",
   "execution_count": 4,
   "metadata": {
    "collapsed": false,
    "deletable": true,
    "editable": true
   },
   "outputs": [
    {
     "name": "stdout",
     "output_type": "stream",
     "text": [
      "Tests Passed\n"
     ]
    }
   ],
   "source": [
    "def one_hot_encode(x):\n",
    "    \"\"\"\n",
    "    One hot encode a list of sample labels. Return a one-hot encoded vector for each label.\n",
    "    : x: List of sample Labels\n",
    "    : return: Numpy array of one-hot encoded labels\n",
    "    \"\"\"\n",
    "    # TODO: Implement Function\n",
    "    one_hot = np.zeros(shape=(len(x),10))\n",
    "    for i in range(len(x)):\n",
    "        for j in range(10):\n",
    "            one_hot[i][j] = (j == x[i])\n",
    "    return one_hot\n",
    "\n",
    "\n",
    "\"\"\"\n",
    "DON'T MODIFY ANYTHING IN THIS CELL THAT IS BELOW THIS LINE\n",
    "\"\"\"\n",
    "tests.test_one_hot_encode(one_hot_encode)"
   ]
  },
  {
   "cell_type": "markdown",
   "metadata": {
    "deletable": true,
    "editable": true
   },
   "source": [
    "### Randomize Data\n",
    "As you saw from exploring the data above, the order of the samples are randomized.  It doesn't hurt to randomize it again, but you don't need to for this dataset."
   ]
  },
  {
   "cell_type": "markdown",
   "metadata": {
    "deletable": true,
    "editable": true
   },
   "source": [
    "## Preprocess all the data and save it\n",
    "Running the code cell below will preprocess all the CIFAR-10 data and save it to file. The code below also uses 10% of the training data for validation."
   ]
  },
  {
   "cell_type": "code",
   "execution_count": 5,
   "metadata": {
    "collapsed": false,
    "deletable": true,
    "editable": true
   },
   "outputs": [],
   "source": [
    "\"\"\"\n",
    "DON'T MODIFY ANYTHING IN THIS CELL\n",
    "\"\"\"\n",
    "# Preprocess Training, Validation, and Testing Data\n",
    "helper.preprocess_and_save_data(cifar10_dataset_folder_path, normalize, one_hot_encode)"
   ]
  },
  {
   "cell_type": "markdown",
   "metadata": {
    "deletable": true,
    "editable": true
   },
   "source": [
    "# Check Point\n",
    "This is your first checkpoint.  If you ever decide to come back to this notebook or have to restart the notebook, you can start from here.  The preprocessed data has been saved to disk."
   ]
  },
  {
   "cell_type": "code",
   "execution_count": 1,
   "metadata": {
    "collapsed": true,
    "deletable": true,
    "editable": true
   },
   "outputs": [],
   "source": [
    "\"\"\"\n",
    "DON'T MODIFY ANYTHING IN THIS CELL\n",
    "\"\"\"\n",
    "import pickle\n",
    "import problem_unittests as tests\n",
    "import helper\n",
    "\n",
    "# Load the Preprocessed Validation data\n",
    "valid_features, valid_labels = pickle.load(open('preprocess_validation.p', mode='rb'))"
   ]
  },
  {
   "cell_type": "markdown",
   "metadata": {
    "deletable": true,
    "editable": true
   },
   "source": [
    "## Build the network\n",
    "For the neural network, you'll build each layer into a function.  Most of the code you've seen has been outside of functions. To test your code more thoroughly, we require that you put each layer in a function.  This allows us to give you better feedback and test for simple mistakes using our unittests before you submit your project.\n",
    "\n",
    ">**Note:** If you're finding it hard to dedicate enough time for this course each week, we've provided a small shortcut to this part of the project. In the next couple of problems, you'll have the option to use classes from the [TensorFlow Layers](https://www.tensorflow.org/api_docs/python/tf/layers) or [TensorFlow Layers (contrib)](https://www.tensorflow.org/api_guides/python/contrib.layers) packages to build each layer, except the layers you build in the \"Convolutional and Max Pooling Layer\" section.  TF Layers is similar to Keras's and TFLearn's abstraction to layers, so it's easy to pickup.\n",
    "\n",
    ">However, if you would like to get the most out of this course, try to solve all the problems _without_ using anything from the TF Layers packages. You **can** still use classes from other packages that happen to have the same name as ones you find in TF Layers! For example, instead of using the TF Layers version of the `conv2d` class, [tf.layers.conv2d](https://www.tensorflow.org/api_docs/python/tf/layers/conv2d), you would want to use the TF Neural Network version of `conv2d`, [tf.nn.conv2d](https://www.tensorflow.org/api_docs/python/tf/nn/conv2d). \n",
    "\n",
    "Let's begin!\n",
    "\n",
    "### Input\n",
    "The neural network needs to read the image data, one-hot encoded labels, and dropout keep probability. Implement the following functions\n",
    "* Implement `neural_net_image_input`\n",
    " * Return a [TF Placeholder](https://www.tensorflow.org/api_docs/python/tf/placeholder)\n",
    " * Set the shape using `image_shape` with batch size set to `None`.\n",
    " * Name the TensorFlow placeholder \"x\" using the TensorFlow `name` parameter in the [TF Placeholder](https://www.tensorflow.org/api_docs/python/tf/placeholder).\n",
    "* Implement `neural_net_label_input`\n",
    " * Return a [TF Placeholder](https://www.tensorflow.org/api_docs/python/tf/placeholder)\n",
    " * Set the shape using `n_classes` with batch size set to `None`.\n",
    " * Name the TensorFlow placeholder \"y\" using the TensorFlow `name` parameter in the [TF Placeholder](https://www.tensorflow.org/api_docs/python/tf/placeholder).\n",
    "* Implement `neural_net_keep_prob_input`\n",
    " * Return a [TF Placeholder](https://www.tensorflow.org/api_docs/python/tf/placeholder) for dropout keep probability.\n",
    " * Name the TensorFlow placeholder \"keep_prob\" using the TensorFlow `name` parameter in the [TF Placeholder](https://www.tensorflow.org/api_docs/python/tf/placeholder).\n",
    "\n",
    "These names will be used at the end of the project to load your saved model.\n",
    "\n",
    "Note: `None` for shapes in TensorFlow allow for a dynamic size."
   ]
  },
  {
   "cell_type": "code",
   "execution_count": 2,
   "metadata": {
    "collapsed": false,
    "deletable": true,
    "editable": true
   },
   "outputs": [
    {
     "name": "stdout",
     "output_type": "stream",
     "text": [
      "Image Input Tests Passed.\n",
      "Label Input Tests Passed.\n",
      "Keep Prob Tests Passed.\n"
     ]
    }
   ],
   "source": [
    "import tensorflow as tf\n",
    "\n",
    "def neural_net_image_input(image_shape):\n",
    "    \"\"\"\n",
    "    Return a Tensor for a batch of image input\n",
    "    : image_shape: Shape of the images\n",
    "    : return: Tensor for image input.\n",
    "    \"\"\"\n",
    "    # TODO: Implement Function\n",
    "    return tf.placeholder(dtype=tf.float32, shape=(None, *image_shape), name='x')\n",
    "\n",
    "\n",
    "def neural_net_label_input(n_classes):\n",
    "    \"\"\"\n",
    "    Return a Tensor for a batch of label input\n",
    "    : n_classes: Number of classes\n",
    "    : return: Tensor for label input.\n",
    "    \"\"\"\n",
    "    # TODO: Implement Function\n",
    "    return tf.placeholder(dtype=tf.float32, shape=(None, n_classes), name=\"y\")\n",
    "\n",
    "\n",
    "def neural_net_keep_prob_input():\n",
    "    \"\"\"\n",
    "    Return a Tensor for keep probability\n",
    "    : return: Tensor for keep probability.\n",
    "    \"\"\"\n",
    "    # TODO: Implement Function\n",
    "    return tf.placeholder(tf.float32, name=\"keep_prob\")\n",
    "\n",
    "\n",
    "\"\"\"\n",
    "DON'T MODIFY ANYTHING IN THIS CELL THAT IS BELOW THIS LINE\n",
    "\"\"\"\n",
    "tf.reset_default_graph()\n",
    "tests.test_nn_image_inputs(neural_net_image_input)\n",
    "tests.test_nn_label_inputs(neural_net_label_input)\n",
    "tests.test_nn_keep_prob_inputs(neural_net_keep_prob_input)"
   ]
  },
  {
   "cell_type": "markdown",
   "metadata": {
    "deletable": true,
    "editable": true
   },
   "source": [
    "### Convolution and Max Pooling Layer\n",
    "Convolution layers have a lot of success with images. For this code cell, you should implement the function `conv2d_maxpool` to apply convolution then max pooling:\n",
    "* Create the weight and bias using `conv_ksize`, `conv_num_outputs` and the shape of `x_tensor`.\n",
    "* Apply a convolution to `x_tensor` using weight and `conv_strides`.\n",
    " * We recommend you use same padding, but you're welcome to use any padding.\n",
    "* Add bias\n",
    "* Add a nonlinear activation to the convolution.\n",
    "* Apply Max Pooling using `pool_ksize` and `pool_strides`.\n",
    " * We recommend you use same padding, but you're welcome to use any padding.\n",
    "\n",
    "**Note:** You **can't** use [TensorFlow Layers](https://www.tensorflow.org/api_docs/python/tf/layers) or [TensorFlow Layers (contrib)](https://www.tensorflow.org/api_guides/python/contrib.layers) for **this** layer, but you can still use TensorFlow's [Neural Network](https://www.tensorflow.org/api_docs/python/tf/nn) package. You may still use the shortcut option for all the **other** layers."
   ]
  },
  {
   "cell_type": "code",
   "execution_count": 3,
   "metadata": {
    "collapsed": false,
    "deletable": true,
    "editable": true
   },
   "outputs": [
    {
     "name": "stdout",
     "output_type": "stream",
     "text": [
      "Tests Passed\n"
     ]
    }
   ],
   "source": [
    "def conv2d_maxpool(x_tensor, conv_num_outputs, conv_ksize, conv_strides, pool_ksize, pool_strides):\n",
    "    \"\"\"\n",
    "    Apply convolution then max pooling to x_tensor\n",
    "    :param x_tensor: TensorFlow Tensor\n",
    "    :param conv_num_outputs: Number of outputs for the convolutional layer\n",
    "    :param conv_ksize: kernal size 2-D Tuple for the convolutional layer\n",
    "    :param conv_strides: Stride 2-D Tuple for convolution\n",
    "    :param pool_ksize: kernal size 2-D Tuple for pool\n",
    "    :param pool_strides: Stride 2-D Tuple for pool\n",
    "    : return: A tensor that represents convolution and max pooling of x_tensor\n",
    "    \"\"\"\n",
    "    # TODO: Implement Function\n",
    "    weight = tf.Variable(tf.truncated_normal([*conv_ksize, x_tensor.get_shape().as_list()[-1], conv_num_outputs],stddev=0.1))\n",
    "    bias = tf.Variable(tf.zeros(conv_num_outputs))   \n",
    "    conv = tf.nn.conv2d(x_tensor,weight,strides=[1,*conv_strides,1],padding='SAME')\n",
    "    conv = tf.nn.bias_add(conv,bias)\n",
    "    conv =tf.nn.relu(conv)\n",
    "    conv = tf.nn.max_pool(conv,ksize=[1,*pool_ksize,1],strides=[1,*pool_strides,1],padding='SAME')\n",
    "    return conv\n",
    "\n",
    "\"\"\"\n",
    "DON'T MODIFY ANYTHING IN THIS CELL THAT IS BELOW THIS LINE\n",
    "\"\"\"\n",
    "tests.test_con_pool(conv2d_maxpool)"
   ]
  },
  {
   "cell_type": "markdown",
   "metadata": {
    "deletable": true,
    "editable": true
   },
   "source": [
    "### Flatten Layer\n",
    "Implement the `flatten` function to change the dimension of `x_tensor` from a 4-D tensor to a 2-D tensor.  The output should be the shape (*Batch Size*, *Flattened Image Size*). Shortcut option: you can use classes from the [TensorFlow Layers](https://www.tensorflow.org/api_docs/python/tf/layers) or [TensorFlow Layers (contrib)](https://www.tensorflow.org/api_guides/python/contrib.layers) packages for this layer. For more of a challenge, only use other TensorFlow packages."
   ]
  },
  {
   "cell_type": "code",
   "execution_count": 4,
   "metadata": {
    "collapsed": false,
    "deletable": true,
    "editable": true
   },
   "outputs": [
    {
     "name": "stdout",
     "output_type": "stream",
     "text": [
      "Tests Passed\n"
     ]
    }
   ],
   "source": [
    "def flatten(x_tensor):\n",
    "    \"\"\"\n",
    "    Flatten x_tensor to (Batch Size, Flattened Image Size)\n",
    "    : x_tensor: A tensor of size (Batch Size, ...), where ... are the image dimensions.\n",
    "    : return: A tensor of size (Batch Size, Flattened Image Size).\n",
    "    \"\"\"\n",
    "    # TODO: Implement Function\n",
    "    return tf.contrib.layers.flatten(x_tensor)\n",
    "\n",
    "\n",
    "\"\"\"\n",
    "DON'T MODIFY ANYTHING IN THIS CELL THAT IS BELOW THIS LINE\n",
    "\"\"\"\n",
    "tests.test_flatten(flatten)"
   ]
  },
  {
   "cell_type": "markdown",
   "metadata": {
    "deletable": true,
    "editable": true
   },
   "source": [
    "### Fully-Connected Layer\n",
    "Implement the `fully_conn` function to apply a fully connected layer to `x_tensor` with the shape (*Batch Size*, *num_outputs*). Shortcut option: you can use classes from the [TensorFlow Layers](https://www.tensorflow.org/api_docs/python/tf/layers) or [TensorFlow Layers (contrib)](https://www.tensorflow.org/api_guides/python/contrib.layers) packages for this layer. For more of a challenge, only use other TensorFlow packages."
   ]
  },
  {
   "cell_type": "code",
   "execution_count": 5,
   "metadata": {
    "collapsed": false,
    "deletable": true,
    "editable": true
   },
   "outputs": [
    {
     "name": "stdout",
     "output_type": "stream",
     "text": [
      "Tests Passed\n"
     ]
    }
   ],
   "source": [
    "def fully_conn(x_tensor, num_outputs):\n",
    "    \"\"\"\n",
    "    Apply a fully connected layer to x_tensor using weight and bias\n",
    "    : x_tensor: A 2-D tensor where the first dimension is batch size.\n",
    "    : num_outputs: The number of output that the new tensor should be.\n",
    "    : return: A 2-D tensor where the second dimension is num_outputs.\n",
    "    \"\"\"\n",
    "    # TODO: Implement Function\n",
    "    fc = tf.contrib.layers.fully_connected(x_tensor, num_outputs)\n",
    "    return fc\n",
    "\n",
    "\n",
    "\"\"\"\n",
    "DON'T MODIFY ANYTHING IN THIS CELL THAT IS BELOW THIS LINE\n",
    "\"\"\"\n",
    "tests.test_fully_conn(fully_conn)"
   ]
  },
  {
   "cell_type": "markdown",
   "metadata": {
    "deletable": true,
    "editable": true
   },
   "source": [
    "### Output Layer\n",
    "Implement the `output` function to apply a fully connected layer to `x_tensor` with the shape (*Batch Size*, *num_outputs*). Shortcut option: you can use classes from the [TensorFlow Layers](https://www.tensorflow.org/api_docs/python/tf/layers) or [TensorFlow Layers (contrib)](https://www.tensorflow.org/api_guides/python/contrib.layers) packages for this layer. For more of a challenge, only use other TensorFlow packages.\n",
    "\n",
    "**Note:** Activation, softmax, or cross entropy should **not** be applied to this."
   ]
  },
  {
   "cell_type": "code",
   "execution_count": 6,
   "metadata": {
    "collapsed": false,
    "deletable": true,
    "editable": true
   },
   "outputs": [
    {
     "name": "stdout",
     "output_type": "stream",
     "text": [
      "Tests Passed\n"
     ]
    }
   ],
   "source": [
    "def output(x_tensor, num_outputs):\n",
    "    \"\"\"\n",
    "    Apply a output layer to x_tensor using weight and bias\n",
    "    : x_tensor: A 2-D tensor where the first dimension is batch size.\n",
    "    : num_outputs: The number of output that the new tensor should be.\n",
    "    : return: A 2-D tensor where the second dimension is num_outputs.\n",
    "    \"\"\"\n",
    "    # TODO: Implement Function\n",
    "    weight = tf.Variable(tf.truncated_normal([int(x_tensor.shape[-1]), num_outputs], mean=0.0, stddev=0.01))\n",
    "    bias = tf.Variable(tf.zeros([num_outputs]))\n",
    "    outp = tf.add(tf.matmul(x_tensor, weight), bias)\n",
    "    return outp\n",
    "\n",
    "\n",
    "\"\"\"\n",
    "DON'T MODIFY ANYTHING IN THIS CELL THAT IS BELOW THIS LINE\n",
    "\"\"\"\n",
    "tests.test_output(output)"
   ]
  },
  {
   "cell_type": "markdown",
   "metadata": {
    "deletable": true,
    "editable": true
   },
   "source": [
    "### Create Convolutional Model\n",
    "Implement the function `conv_net` to create a convolutional neural network model. The function takes in a batch of images, `x`, and outputs logits.  Use the layers you created above to create this model:\n",
    "\n",
    "* Apply 1, 2, or 3 Convolution and Max Pool layers\n",
    "* Apply a Flatten Layer\n",
    "* Apply 1, 2, or 3 Fully Connected Layers\n",
    "* Apply an Output Layer\n",
    "* Return the output\n",
    "* Apply [TensorFlow's Dropout](https://www.tensorflow.org/api_docs/python/tf/nn/dropout) to one or more layers in the model using `keep_prob`. "
   ]
  },
  {
   "cell_type": "code",
   "execution_count": 7,
   "metadata": {
    "collapsed": false,
    "deletable": true,
    "editable": true
   },
   "outputs": [
    {
     "name": "stdout",
     "output_type": "stream",
     "text": [
      "Neural Network Built!\n"
     ]
    }
   ],
   "source": [
    "def conv_net(x, keep_prob):\n",
    "    \"\"\"\n",
    "    Create a convolutional neural network model\n",
    "    : x: Placeholder tensor that holds image data.\n",
    "    : keep_prob: Placeholder tensor that hold dropout keep probability.\n",
    "    : return: Tensor that represents logits\n",
    "    \"\"\"\n",
    "    # TODO: Apply 1, 2, or 3 Convolution and Max Pool layers\n",
    "    #    Play around with different number of outputs, kernel size and stride\n",
    "    # Function Definition from Above:\n",
    "    #    conv2d_maxpool(x_tensor, conv_num_outputs, conv_ksize, conv_strides, pool_ksize, pool_strides)\n",
    "    layer1 = conv2d_maxpool(x,16,(3,3),(1,1),(2,2),(2,2))\n",
    "    layer2 = conv2d_maxpool(layer1,32,(3,3),(1,1),(2,2),(2,2))\n",
    "    layer3 = conv2d_maxpool(layer2,64,(3,3),(1,1),(2,2),(2,2))\n",
    "    # TODO: Apply a Flatten Layer\n",
    "    # Function Definition from Above:\n",
    "    #   flatten(x_tensor)\n",
    "    layer = flatten(layer3)\n",
    "\n",
    "    # TODO: Apply 1, 2, or 3 Fully Connected Layers\n",
    "    #    Play around with different number of outputs\n",
    "    # Function Definition from Above:\n",
    "    #   fully_conn(x_tensor, num_outputs)\n",
    "    layer = fully_conn(layer,512)\n",
    "    layer = tf.nn.dropout(layer,keep_prob)\n",
    "    \n",
    "    # TODO: Apply an Output Layer\n",
    "    #    Set this to the number of classes\n",
    "    # Function Definition from Above:\n",
    "    #   output(x_tensor, num_outputs)\n",
    "    layer = output(layer,10)\n",
    "    \n",
    "    # TODO: return output\n",
    "    return layer\n",
    "\n",
    "\n",
    "\"\"\"\n",
    "DON'T MODIFY ANYTHING IN THIS CELL THAT IS BELOW THIS LINE\n",
    "\"\"\"\n",
    "\n",
    "##############################\n",
    "## Build the Neural Network ##\n",
    "##############################\n",
    "\n",
    "# Remove previous weights, bias, inputs, etc..\n",
    "tf.reset_default_graph()\n",
    "\n",
    "# Inputs\n",
    "x = neural_net_image_input((32, 32, 3))\n",
    "y = neural_net_label_input(10)\n",
    "keep_prob = neural_net_keep_prob_input()\n",
    "\n",
    "# Model\n",
    "logits = conv_net(x, keep_prob)\n",
    "\n",
    "# Name logits Tensor, so that is can be loaded from disk after training\n",
    "logits = tf.identity(logits, name='logits')\n",
    "\n",
    "# Loss and Optimizer\n",
    "cost = tf.reduce_mean(tf.nn.softmax_cross_entropy_with_logits(logits=logits, labels=y))\n",
    "optimizer = tf.train.AdamOptimizer().minimize(cost)\n",
    "\n",
    "# Accuracy\n",
    "correct_pred = tf.equal(tf.argmax(logits, 1), tf.argmax(y, 1))\n",
    "accuracy = tf.reduce_mean(tf.cast(correct_pred, tf.float32), name='accuracy')\n",
    "\n",
    "tests.test_conv_net(conv_net)"
   ]
  },
  {
   "cell_type": "markdown",
   "metadata": {
    "deletable": true,
    "editable": true
   },
   "source": [
    "## Train the Neural Network\n",
    "### Single Optimization\n",
    "Implement the function `train_neural_network` to do a single optimization.  The optimization should use `optimizer` to optimize in `session` with a `feed_dict` of the following:\n",
    "* `x` for image input\n",
    "* `y` for labels\n",
    "* `keep_prob` for keep probability for dropout\n",
    "\n",
    "This function will be called for each batch, so `tf.global_variables_initializer()` has already been called.\n",
    "\n",
    "Note: Nothing needs to be returned. This function is only optimizing the neural network."
   ]
  },
  {
   "cell_type": "code",
   "execution_count": 8,
   "metadata": {
    "collapsed": false,
    "deletable": true,
    "editable": true
   },
   "outputs": [
    {
     "name": "stdout",
     "output_type": "stream",
     "text": [
      "Tests Passed\n"
     ]
    }
   ],
   "source": [
    "def train_neural_network(session, optimizer, keep_probability, feature_batch, label_batch):\n",
    "    \"\"\"\n",
    "    Optimize the session on a batch of images and labels\n",
    "    : session: Current TensorFlow session\n",
    "    : optimizer: TensorFlow optimizer function\n",
    "    : keep_probability: keep probability\n",
    "    : feature_batch: Batch of Numpy image data\n",
    "    : label_batch: Batch of Numpy label data\n",
    "    \"\"\"\n",
    "    # TODO: Implement Function\n",
    "    session.run(optimizer, feed_dict={x:feature_batch, y:label_batch, keep_prob:keep_probability})\n",
    "\n",
    "\n",
    "\"\"\"\n",
    "DON'T MODIFY ANYTHING IN THIS CELL THAT IS BELOW THIS LINE\n",
    "\"\"\"\n",
    "tests.test_train_nn(train_neural_network)"
   ]
  },
  {
   "cell_type": "markdown",
   "metadata": {
    "deletable": true,
    "editable": true
   },
   "source": [
    "### Show Stats\n",
    "Implement the function `print_stats` to print loss and validation accuracy.  Use the global variables `valid_features` and `valid_labels` to calculate validation accuracy.  Use a keep probability of `1.0` to calculate the loss and validation accuracy."
   ]
  },
  {
   "cell_type": "code",
   "execution_count": 9,
   "metadata": {
    "collapsed": false,
    "deletable": true,
    "editable": true
   },
   "outputs": [],
   "source": [
    "def print_stats(session, feature_batch, label_batch, cost, accuracy):\n",
    "    \"\"\"\n",
    "    Print information about loss and validation accuracy\n",
    "    : session: Current TensorFlow session\n",
    "    : feature_batch: Batch of Numpy image data\n",
    "    : label_batch: Batch of Numpy label data\n",
    "    : cost: TensorFlow cost function\n",
    "    : accuracy: TensorFlow accuracy function\n",
    "    \"\"\"\n",
    "    # TODO: Implement Function\n",
    "    loss = session.run(cost, feed_dict={x:feature_batch, y:label_batch, keep_prob:1.0})\n",
    "    valid_acc = session.run(accuracy, feed_dict={x:valid_features, y:valid_labels, keep_prob:1.0})\n",
    "    print('Loss: {:>10.4f} Validation Accuracy: {:.6f}'.format(loss, valid_acc))"
   ]
  },
  {
   "cell_type": "markdown",
   "metadata": {
    "deletable": true,
    "editable": true
   },
   "source": [
    "### Hyperparameters\n",
    "Tune the following parameters:\n",
    "* Set `epochs` to the number of iterations until the network stops learning or start overfitting\n",
    "* Set `batch_size` to the highest number that your machine has memory for.  Most people set them to common sizes of memory:\n",
    " * 64\n",
    " * 128\n",
    " * 256\n",
    " * ...\n",
    "* Set `keep_probability` to the probability of keeping a node using dropout"
   ]
  },
  {
   "cell_type": "code",
   "execution_count": 10,
   "metadata": {
    "collapsed": true,
    "deletable": true,
    "editable": true
   },
   "outputs": [],
   "source": [
    "# TODO: Tune Parameters\n",
    "epochs = 50\n",
    "batch_size = 1024\n",
    "keep_probability = 0.8"
   ]
  },
  {
   "cell_type": "markdown",
   "metadata": {
    "deletable": true,
    "editable": true
   },
   "source": [
    "### Train on a Single CIFAR-10 Batch\n",
    "Instead of training the neural network on all the CIFAR-10 batches of data, let's use a single batch. This should save time while you iterate on the model to get a better accuracy.  Once the final validation accuracy is 50% or greater, run the model on all the data in the next section."
   ]
  },
  {
   "cell_type": "code",
   "execution_count": 19,
   "metadata": {
    "collapsed": false,
    "deletable": true,
    "editable": true
   },
   "outputs": [
    {
     "name": "stdout",
     "output_type": "stream",
     "text": [
      "Checking the Training on a Single Batch...\n",
      "Epoch  1, CIFAR-10 Batch 1:  Loss:     2.2084 Validation Accuracy: 0.231000\n",
      "Epoch  2, CIFAR-10 Batch 1:  Loss:     2.0469 Validation Accuracy: 0.255800\n",
      "Epoch  3, CIFAR-10 Batch 1:  Loss:     1.9423 Validation Accuracy: 0.283800\n",
      "Epoch  4, CIFAR-10 Batch 1:  Loss:     1.8094 Validation Accuracy: 0.361600\n",
      "Epoch  5, CIFAR-10 Batch 1:  Loss:     1.7515 Validation Accuracy: 0.381800\n",
      "Epoch  6, CIFAR-10 Batch 1:  Loss:     1.6943 Validation Accuracy: 0.389400\n",
      "Epoch  7, CIFAR-10 Batch 1:  Loss:     1.6128 Validation Accuracy: 0.422200\n",
      "Epoch  8, CIFAR-10 Batch 1:  Loss:     1.5754 Validation Accuracy: 0.424400\n",
      "Epoch  9, CIFAR-10 Batch 1:  Loss:     1.5365 Validation Accuracy: 0.436800\n",
      "Epoch 10, CIFAR-10 Batch 1:  Loss:     1.4750 Validation Accuracy: 0.457800\n",
      "Epoch 11, CIFAR-10 Batch 1:  Loss:     1.4440 Validation Accuracy: 0.462800\n",
      "Epoch 12, CIFAR-10 Batch 1:  Loss:     1.4237 Validation Accuracy: 0.464200\n",
      "Epoch 13, CIFAR-10 Batch 1:  Loss:     1.4065 Validation Accuracy: 0.469600\n",
      "Epoch 14, CIFAR-10 Batch 1:  Loss:     1.3918 Validation Accuracy: 0.473000\n",
      "Epoch 15, CIFAR-10 Batch 1:  Loss:     1.3320 Validation Accuracy: 0.483000\n",
      "Epoch 16, CIFAR-10 Batch 1:  Loss:     1.3059 Validation Accuracy: 0.490400\n",
      "Epoch 17, CIFAR-10 Batch 1:  Loss:     1.2947 Validation Accuracy: 0.496200\n",
      "Epoch 18, CIFAR-10 Batch 1:  Loss:     1.2681 Validation Accuracy: 0.504800\n",
      "Epoch 19, CIFAR-10 Batch 1:  Loss:     1.2388 Validation Accuracy: 0.511400\n",
      "Epoch 20, CIFAR-10 Batch 1:  Loss:     1.2032 Validation Accuracy: 0.518200\n",
      "Epoch 21, CIFAR-10 Batch 1:  Loss:     1.1787 Validation Accuracy: 0.523000\n",
      "Epoch 22, CIFAR-10 Batch 1:  Loss:     1.1627 Validation Accuracy: 0.529000\n",
      "Epoch 23, CIFAR-10 Batch 1:  Loss:     1.1374 Validation Accuracy: 0.533600\n",
      "Epoch 24, CIFAR-10 Batch 1:  Loss:     1.1161 Validation Accuracy: 0.536800\n",
      "Epoch 25, CIFAR-10 Batch 1:  Loss:     1.1219 Validation Accuracy: 0.529000\n",
      "Epoch 26, CIFAR-10 Batch 1:  Loss:     1.1381 Validation Accuracy: 0.515400\n",
      "Epoch 27, CIFAR-10 Batch 1:  Loss:     1.0885 Validation Accuracy: 0.538000\n",
      "Epoch 28, CIFAR-10 Batch 1:  Loss:     1.0842 Validation Accuracy: 0.535400\n",
      "Epoch 29, CIFAR-10 Batch 1:  Loss:     1.0622 Validation Accuracy: 0.534600\n",
      "Epoch 30, CIFAR-10 Batch 1:  Loss:     1.0289 Validation Accuracy: 0.546400\n",
      "Epoch 31, CIFAR-10 Batch 1:  Loss:     1.0139 Validation Accuracy: 0.546200\n",
      "Epoch 32, CIFAR-10 Batch 1:  Loss:     0.9849 Validation Accuracy: 0.555800\n",
      "Epoch 33, CIFAR-10 Batch 1:  Loss:     0.9656 Validation Accuracy: 0.556600\n",
      "Epoch 34, CIFAR-10 Batch 1:  Loss:     0.9559 Validation Accuracy: 0.552800\n",
      "Epoch 35, CIFAR-10 Batch 1:  Loss:     0.9629 Validation Accuracy: 0.553400\n",
      "Epoch 36, CIFAR-10 Batch 1:  Loss:     0.9583 Validation Accuracy: 0.550000\n",
      "Epoch 37, CIFAR-10 Batch 1:  Loss:     0.9223 Validation Accuracy: 0.562600\n",
      "Epoch 38, CIFAR-10 Batch 1:  Loss:     0.8821 Validation Accuracy: 0.569600\n",
      "Epoch 39, CIFAR-10 Batch 1:  Loss:     0.8604 Validation Accuracy: 0.578400\n",
      "Epoch 40, CIFAR-10 Batch 1:  Loss:     0.8641 Validation Accuracy: 0.579400\n",
      "Epoch 41, CIFAR-10 Batch 1:  Loss:     0.8378 Validation Accuracy: 0.580200\n",
      "Epoch 42, CIFAR-10 Batch 1:  Loss:     0.8184 Validation Accuracy: 0.584200\n",
      "Epoch 43, CIFAR-10 Batch 1:  Loss:     0.8079 Validation Accuracy: 0.585600\n",
      "Epoch 44, CIFAR-10 Batch 1:  Loss:     0.7910 Validation Accuracy: 0.587400\n",
      "Epoch 45, CIFAR-10 Batch 1:  Loss:     0.7757 Validation Accuracy: 0.589600\n",
      "Epoch 46, CIFAR-10 Batch 1:  Loss:     0.7645 Validation Accuracy: 0.591200\n",
      "Epoch 47, CIFAR-10 Batch 1:  Loss:     0.7448 Validation Accuracy: 0.595400\n",
      "Epoch 48, CIFAR-10 Batch 1:  Loss:     0.7183 Validation Accuracy: 0.594800\n",
      "Epoch 49, CIFAR-10 Batch 1:  Loss:     0.7116 Validation Accuracy: 0.600000\n",
      "Epoch 50, CIFAR-10 Batch 1:  Loss:     0.6904 Validation Accuracy: 0.600200\n"
     ]
    }
   ],
   "source": [
    "\"\"\"\n",
    "DON'T MODIFY ANYTHING IN THIS CELL\n",
    "\"\"\"\n",
    "print('Checking the Training on a Single Batch...')\n",
    "with tf.Session() as sess:\n",
    "    # Initializing the variables\n",
    "    sess.run(tf.global_variables_initializer())\n",
    "    \n",
    "    # Training cycle\n",
    "    for epoch in range(epochs):\n",
    "        batch_i = 1\n",
    "        for batch_features, batch_labels in helper.load_preprocess_training_batch(batch_i, batch_size):\n",
    "            train_neural_network(sess, optimizer, keep_probability, batch_features, batch_labels)\n",
    "        print('Epoch {:>2}, CIFAR-10 Batch {}:  '.format(epoch + 1, batch_i), end='')\n",
    "        print_stats(sess, batch_features, batch_labels, cost, accuracy)"
   ]
  },
  {
   "cell_type": "markdown",
   "metadata": {
    "deletable": true,
    "editable": true
   },
   "source": [
    "### Fully Train the Model\n",
    "Now that you got a good accuracy with a single CIFAR-10 batch, try it with all five batches."
   ]
  },
  {
   "cell_type": "code",
   "execution_count": 11,
   "metadata": {
    "collapsed": false,
    "deletable": true,
    "editable": true
   },
   "outputs": [
    {
     "name": "stdout",
     "output_type": "stream",
     "text": [
      "Training...\n",
      "Epoch  1, CIFAR-10 Batch 1:  Loss:     2.1709 Validation Accuracy: 0.233600\n",
      "Epoch  1, CIFAR-10 Batch 2:  Loss:     1.9743 Validation Accuracy: 0.296800\n",
      "Epoch  1, CIFAR-10 Batch 3:  Loss:     1.8915 Validation Accuracy: 0.315600\n",
      "Epoch  1, CIFAR-10 Batch 4:  Loss:     1.8099 Validation Accuracy: 0.334400\n",
      "Epoch  1, CIFAR-10 Batch 5:  Loss:     1.7674 Validation Accuracy: 0.365600\n",
      "Epoch  2, CIFAR-10 Batch 1:  Loss:     1.7031 Validation Accuracy: 0.394000\n",
      "Epoch  2, CIFAR-10 Batch 2:  Loss:     1.6953 Validation Accuracy: 0.392800\n",
      "Epoch  2, CIFAR-10 Batch 3:  Loss:     1.5669 Validation Accuracy: 0.414600\n",
      "Epoch  2, CIFAR-10 Batch 4:  Loss:     1.5210 Validation Accuracy: 0.435800\n",
      "Epoch  2, CIFAR-10 Batch 5:  Loss:     1.5406 Validation Accuracy: 0.450200\n",
      "Epoch  3, CIFAR-10 Batch 1:  Loss:     1.5076 Validation Accuracy: 0.456000\n",
      "Epoch  3, CIFAR-10 Batch 2:  Loss:     1.5068 Validation Accuracy: 0.452200\n",
      "Epoch  3, CIFAR-10 Batch 3:  Loss:     1.4201 Validation Accuracy: 0.470600\n",
      "Epoch  3, CIFAR-10 Batch 4:  Loss:     1.4162 Validation Accuracy: 0.472400\n",
      "Epoch  3, CIFAR-10 Batch 5:  Loss:     1.4255 Validation Accuracy: 0.486600\n",
      "Epoch  4, CIFAR-10 Batch 1:  Loss:     1.4187 Validation Accuracy: 0.482600\n",
      "Epoch  4, CIFAR-10 Batch 2:  Loss:     1.4276 Validation Accuracy: 0.477600\n",
      "Epoch  4, CIFAR-10 Batch 3:  Loss:     1.3383 Validation Accuracy: 0.497200\n",
      "Epoch  4, CIFAR-10 Batch 4:  Loss:     1.3307 Validation Accuracy: 0.507000\n",
      "Epoch  4, CIFAR-10 Batch 5:  Loss:     1.3391 Validation Accuracy: 0.508800\n",
      "Epoch  5, CIFAR-10 Batch 1:  Loss:     1.3321 Validation Accuracy: 0.511000\n",
      "Epoch  5, CIFAR-10 Batch 2:  Loss:     1.3396 Validation Accuracy: 0.508600\n",
      "Epoch  5, CIFAR-10 Batch 3:  Loss:     1.2685 Validation Accuracy: 0.515600\n",
      "Epoch  5, CIFAR-10 Batch 4:  Loss:     1.2690 Validation Accuracy: 0.522800\n",
      "Epoch  5, CIFAR-10 Batch 5:  Loss:     1.2612 Validation Accuracy: 0.528200\n",
      "Epoch  6, CIFAR-10 Batch 1:  Loss:     1.2752 Validation Accuracy: 0.528000\n",
      "Epoch  6, CIFAR-10 Batch 2:  Loss:     1.2837 Validation Accuracy: 0.527400\n",
      "Epoch  6, CIFAR-10 Batch 3:  Loss:     1.2036 Validation Accuracy: 0.542200\n",
      "Epoch  6, CIFAR-10 Batch 4:  Loss:     1.1933 Validation Accuracy: 0.552800\n",
      "Epoch  6, CIFAR-10 Batch 5:  Loss:     1.1975 Validation Accuracy: 0.546400\n",
      "Epoch  7, CIFAR-10 Batch 1:  Loss:     1.2077 Validation Accuracy: 0.557000\n",
      "Epoch  7, CIFAR-10 Batch 2:  Loss:     1.2153 Validation Accuracy: 0.556000\n",
      "Epoch  7, CIFAR-10 Batch 3:  Loss:     1.1423 Validation Accuracy: 0.564600\n",
      "Epoch  7, CIFAR-10 Batch 4:  Loss:     1.1441 Validation Accuracy: 0.570400\n",
      "Epoch  7, CIFAR-10 Batch 5:  Loss:     1.1421 Validation Accuracy: 0.567000\n",
      "Epoch  8, CIFAR-10 Batch 1:  Loss:     1.1496 Validation Accuracy: 0.579600\n",
      "Epoch  8, CIFAR-10 Batch 2:  Loss:     1.1774 Validation Accuracy: 0.577000\n",
      "Epoch  8, CIFAR-10 Batch 3:  Loss:     1.1036 Validation Accuracy: 0.579600\n",
      "Epoch  8, CIFAR-10 Batch 4:  Loss:     1.1105 Validation Accuracy: 0.572200\n",
      "Epoch  8, CIFAR-10 Batch 5:  Loss:     1.0929 Validation Accuracy: 0.584600\n",
      "Epoch  9, CIFAR-10 Batch 1:  Loss:     1.1104 Validation Accuracy: 0.586600\n",
      "Epoch  9, CIFAR-10 Batch 2:  Loss:     1.1212 Validation Accuracy: 0.591800\n",
      "Epoch  9, CIFAR-10 Batch 3:  Loss:     1.0593 Validation Accuracy: 0.587600\n",
      "Epoch  9, CIFAR-10 Batch 4:  Loss:     1.0522 Validation Accuracy: 0.591800\n",
      "Epoch  9, CIFAR-10 Batch 5:  Loss:     1.0523 Validation Accuracy: 0.594600\n",
      "Epoch 10, CIFAR-10 Batch 1:  Loss:     1.0625 Validation Accuracy: 0.599600\n",
      "Epoch 10, CIFAR-10 Batch 2:  Loss:     1.0966 Validation Accuracy: 0.593400\n",
      "Epoch 10, CIFAR-10 Batch 3:  Loss:     1.0200 Validation Accuracy: 0.595200\n",
      "Epoch 10, CIFAR-10 Batch 4:  Loss:     1.0125 Validation Accuracy: 0.601200\n",
      "Epoch 10, CIFAR-10 Batch 5:  Loss:     1.0224 Validation Accuracy: 0.598200\n",
      "Epoch 11, CIFAR-10 Batch 1:  Loss:     1.0324 Validation Accuracy: 0.608200\n",
      "Epoch 11, CIFAR-10 Batch 2:  Loss:     1.0639 Validation Accuracy: 0.599800\n",
      "Epoch 11, CIFAR-10 Batch 3:  Loss:     0.9860 Validation Accuracy: 0.608400\n",
      "Epoch 11, CIFAR-10 Batch 4:  Loss:     0.9785 Validation Accuracy: 0.615000\n",
      "Epoch 11, CIFAR-10 Batch 5:  Loss:     0.9826 Validation Accuracy: 0.609400\n",
      "Epoch 12, CIFAR-10 Batch 1:  Loss:     0.9973 Validation Accuracy: 0.617600\n",
      "Epoch 12, CIFAR-10 Batch 2:  Loss:     1.0412 Validation Accuracy: 0.603000\n",
      "Epoch 12, CIFAR-10 Batch 3:  Loss:     0.9555 Validation Accuracy: 0.615400\n",
      "Epoch 12, CIFAR-10 Batch 4:  Loss:     0.9453 Validation Accuracy: 0.623000\n",
      "Epoch 12, CIFAR-10 Batch 5:  Loss:     0.9425 Validation Accuracy: 0.616600\n",
      "Epoch 13, CIFAR-10 Batch 1:  Loss:     0.9722 Validation Accuracy: 0.624200\n",
      "Epoch 13, CIFAR-10 Batch 2:  Loss:     0.9919 Validation Accuracy: 0.616400\n",
      "Epoch 13, CIFAR-10 Batch 3:  Loss:     0.9215 Validation Accuracy: 0.625400\n",
      "Epoch 13, CIFAR-10 Batch 4:  Loss:     0.9183 Validation Accuracy: 0.630200\n",
      "Epoch 13, CIFAR-10 Batch 5:  Loss:     0.9089 Validation Accuracy: 0.629000\n",
      "Epoch 14, CIFAR-10 Batch 1:  Loss:     0.9441 Validation Accuracy: 0.630200\n",
      "Epoch 14, CIFAR-10 Batch 2:  Loss:     0.9799 Validation Accuracy: 0.621600\n",
      "Epoch 14, CIFAR-10 Batch 3:  Loss:     0.9045 Validation Accuracy: 0.628000\n",
      "Epoch 14, CIFAR-10 Batch 4:  Loss:     0.9038 Validation Accuracy: 0.636400\n",
      "Epoch 14, CIFAR-10 Batch 5:  Loss:     0.8785 Validation Accuracy: 0.636400\n",
      "Epoch 15, CIFAR-10 Batch 1:  Loss:     0.9246 Validation Accuracy: 0.633000\n",
      "Epoch 15, CIFAR-10 Batch 2:  Loss:     0.9654 Validation Accuracy: 0.631400\n",
      "Epoch 15, CIFAR-10 Batch 3:  Loss:     0.9462 Validation Accuracy: 0.614800\n",
      "Epoch 15, CIFAR-10 Batch 4:  Loss:     0.8882 Validation Accuracy: 0.635200\n",
      "Epoch 15, CIFAR-10 Batch 5:  Loss:     0.8536 Validation Accuracy: 0.638800\n",
      "Epoch 16, CIFAR-10 Batch 1:  Loss:     0.9124 Validation Accuracy: 0.632600\n",
      "Epoch 16, CIFAR-10 Batch 2:  Loss:     0.9052 Validation Accuracy: 0.651800\n",
      "Epoch 16, CIFAR-10 Batch 3:  Loss:     0.8879 Validation Accuracy: 0.632400\n",
      "Epoch 16, CIFAR-10 Batch 4:  Loss:     0.8601 Validation Accuracy: 0.643600\n",
      "Epoch 16, CIFAR-10 Batch 5:  Loss:     0.8458 Validation Accuracy: 0.642600\n",
      "Epoch 17, CIFAR-10 Batch 1:  Loss:     0.8812 Validation Accuracy: 0.642000\n",
      "Epoch 17, CIFAR-10 Batch 2:  Loss:     0.8843 Validation Accuracy: 0.657000\n",
      "Epoch 17, CIFAR-10 Batch 3:  Loss:     0.8327 Validation Accuracy: 0.647600\n",
      "Epoch 17, CIFAR-10 Batch 4:  Loss:     0.8237 Validation Accuracy: 0.650000\n",
      "Epoch 17, CIFAR-10 Batch 5:  Loss:     0.8128 Validation Accuracy: 0.650800\n",
      "Epoch 18, CIFAR-10 Batch 1:  Loss:     0.8595 Validation Accuracy: 0.648200\n",
      "Epoch 18, CIFAR-10 Batch 2:  Loss:     0.8579 Validation Accuracy: 0.661800\n",
      "Epoch 18, CIFAR-10 Batch 3:  Loss:     0.8091 Validation Accuracy: 0.657800\n",
      "Epoch 18, CIFAR-10 Batch 4:  Loss:     0.8065 Validation Accuracy: 0.653400\n",
      "Epoch 18, CIFAR-10 Batch 5:  Loss:     0.7805 Validation Accuracy: 0.653800\n",
      "Epoch 19, CIFAR-10 Batch 1:  Loss:     0.8345 Validation Accuracy: 0.654600\n",
      "Epoch 19, CIFAR-10 Batch 2:  Loss:     0.8427 Validation Accuracy: 0.663200\n",
      "Epoch 19, CIFAR-10 Batch 3:  Loss:     0.7928 Validation Accuracy: 0.661800\n",
      "Epoch 19, CIFAR-10 Batch 4:  Loss:     0.7756 Validation Accuracy: 0.659600\n",
      "Epoch 19, CIFAR-10 Batch 5:  Loss:     0.7454 Validation Accuracy: 0.665600\n",
      "Epoch 20, CIFAR-10 Batch 1:  Loss:     0.8163 Validation Accuracy: 0.656000\n",
      "Epoch 20, CIFAR-10 Batch 2:  Loss:     0.8102 Validation Accuracy: 0.670600\n",
      "Epoch 20, CIFAR-10 Batch 3:  Loss:     0.7752 Validation Accuracy: 0.666200\n",
      "Epoch 20, CIFAR-10 Batch 4:  Loss:     0.7557 Validation Accuracy: 0.663600\n",
      "Epoch 20, CIFAR-10 Batch 5:  Loss:     0.7200 Validation Accuracy: 0.673000\n",
      "Epoch 21, CIFAR-10 Batch 1:  Loss:     0.7912 Validation Accuracy: 0.667000\n",
      "Epoch 21, CIFAR-10 Batch 2:  Loss:     0.7763 Validation Accuracy: 0.683400\n",
      "Epoch 21, CIFAR-10 Batch 3:  Loss:     0.7490 Validation Accuracy: 0.673400\n",
      "Epoch 21, CIFAR-10 Batch 4:  Loss:     0.7377 Validation Accuracy: 0.667400\n",
      "Epoch 21, CIFAR-10 Batch 5:  Loss:     0.6992 Validation Accuracy: 0.673400\n",
      "Epoch 22, CIFAR-10 Batch 1:  Loss:     0.7709 Validation Accuracy: 0.672000\n",
      "Epoch 22, CIFAR-10 Batch 2:  Loss:     0.7640 Validation Accuracy: 0.682600\n",
      "Epoch 22, CIFAR-10 Batch 3:  Loss:     0.7408 Validation Accuracy: 0.675200\n",
      "Epoch 22, CIFAR-10 Batch 4:  Loss:     0.7354 Validation Accuracy: 0.662600\n",
      "Epoch 22, CIFAR-10 Batch 5:  Loss:     0.6897 Validation Accuracy: 0.673600\n",
      "Epoch 23, CIFAR-10 Batch 1:  Loss:     0.7599 Validation Accuracy: 0.671200\n",
      "Epoch 23, CIFAR-10 Batch 2:  Loss:     0.7509 Validation Accuracy: 0.674000\n",
      "Epoch 23, CIFAR-10 Batch 3:  Loss:     0.7269 Validation Accuracy: 0.674400\n",
      "Epoch 23, CIFAR-10 Batch 4:  Loss:     0.7058 Validation Accuracy: 0.674600\n",
      "Epoch 23, CIFAR-10 Batch 5:  Loss:     0.7143 Validation Accuracy: 0.663600\n",
      "Epoch 24, CIFAR-10 Batch 1:  Loss:     0.7362 Validation Accuracy: 0.676000\n",
      "Epoch 24, CIFAR-10 Batch 2:  Loss:     0.7369 Validation Accuracy: 0.678000\n",
      "Epoch 24, CIFAR-10 Batch 3:  Loss:     0.6802 Validation Accuracy: 0.687000\n",
      "Epoch 24, CIFAR-10 Batch 4:  Loss:     0.6662 Validation Accuracy: 0.685000\n",
      "Epoch 24, CIFAR-10 Batch 5:  Loss:     0.6687 Validation Accuracy: 0.668800\n",
      "Epoch 25, CIFAR-10 Batch 1:  Loss:     0.7061 Validation Accuracy: 0.688400\n",
      "Epoch 25, CIFAR-10 Batch 2:  Loss:     0.7024 Validation Accuracy: 0.686000\n",
      "Epoch 25, CIFAR-10 Batch 3:  Loss:     0.6771 Validation Accuracy: 0.684200\n",
      "Epoch 25, CIFAR-10 Batch 4:  Loss:     0.6517 Validation Accuracy: 0.683000\n",
      "Epoch 25, CIFAR-10 Batch 5:  Loss:     0.6363 Validation Accuracy: 0.680800\n",
      "Epoch 26, CIFAR-10 Batch 1:  Loss:     0.6815 Validation Accuracy: 0.689800\n",
      "Epoch 26, CIFAR-10 Batch 2:  Loss:     0.6877 Validation Accuracy: 0.687200\n",
      "Epoch 26, CIFAR-10 Batch 3:  Loss:     0.6580 Validation Accuracy: 0.685800\n",
      "Epoch 26, CIFAR-10 Batch 4:  Loss:     0.6361 Validation Accuracy: 0.684400\n",
      "Epoch 26, CIFAR-10 Batch 5:  Loss:     0.6081 Validation Accuracy: 0.685600\n",
      "Epoch 27, CIFAR-10 Batch 1:  Loss:     0.6729 Validation Accuracy: 0.688000\n",
      "Epoch 27, CIFAR-10 Batch 2:  Loss:     0.6983 Validation Accuracy: 0.669400\n",
      "Epoch 27, CIFAR-10 Batch 3:  Loss:     0.6470 Validation Accuracy: 0.686400\n",
      "Epoch 27, CIFAR-10 Batch 4:  Loss:     0.6299 Validation Accuracy: 0.686200\n",
      "Epoch 27, CIFAR-10 Batch 5:  Loss:     0.5924 Validation Accuracy: 0.679400\n",
      "Epoch 28, CIFAR-10 Batch 1:  Loss:     0.6585 Validation Accuracy: 0.689800\n",
      "Epoch 28, CIFAR-10 Batch 2:  Loss:     0.6723 Validation Accuracy: 0.679600\n",
      "Epoch 28, CIFAR-10 Batch 3:  Loss:     0.6490 Validation Accuracy: 0.682600\n",
      "Epoch 28, CIFAR-10 Batch 4:  Loss:     0.6222 Validation Accuracy: 0.687400\n",
      "Epoch 28, CIFAR-10 Batch 5:  Loss:     0.5629 Validation Accuracy: 0.687200\n",
      "Epoch 29, CIFAR-10 Batch 1:  Loss:     0.6420 Validation Accuracy: 0.688600\n",
      "Epoch 29, CIFAR-10 Batch 2:  Loss:     0.6258 Validation Accuracy: 0.699600\n",
      "Epoch 29, CIFAR-10 Batch 3:  Loss:     0.6588 Validation Accuracy: 0.680800\n",
      "Epoch 29, CIFAR-10 Batch 4:  Loss:     0.6011 Validation Accuracy: 0.683400\n",
      "Epoch 29, CIFAR-10 Batch 5:  Loss:     0.5631 Validation Accuracy: 0.687600\n",
      "Epoch 30, CIFAR-10 Batch 1:  Loss:     0.6318 Validation Accuracy: 0.689800\n",
      "Epoch 30, CIFAR-10 Batch 2:  Loss:     0.6110 Validation Accuracy: 0.704800\n",
      "Epoch 30, CIFAR-10 Batch 3:  Loss:     0.5927 Validation Accuracy: 0.697000\n",
      "Epoch 30, CIFAR-10 Batch 4:  Loss:     0.5669 Validation Accuracy: 0.692000\n",
      "Epoch 30, CIFAR-10 Batch 5:  Loss:     0.5294 Validation Accuracy: 0.694800\n",
      "Epoch 31, CIFAR-10 Batch 1:  Loss:     0.5982 Validation Accuracy: 0.693800\n",
      "Epoch 31, CIFAR-10 Batch 2:  Loss:     0.5903 Validation Accuracy: 0.706000\n",
      "Epoch 31, CIFAR-10 Batch 3:  Loss:     0.5768 Validation Accuracy: 0.696600\n",
      "Epoch 31, CIFAR-10 Batch 4:  Loss:     0.5698 Validation Accuracy: 0.690000\n",
      "Epoch 31, CIFAR-10 Batch 5:  Loss:     0.5250 Validation Accuracy: 0.696000\n",
      "Epoch 32, CIFAR-10 Batch 1:  Loss:     0.6008 Validation Accuracy: 0.686200\n",
      "Epoch 32, CIFAR-10 Batch 2:  Loss:     0.5810 Validation Accuracy: 0.697800\n",
      "Epoch 32, CIFAR-10 Batch 3:  Loss:     0.5534 Validation Accuracy: 0.701600\n",
      "Epoch 32, CIFAR-10 Batch 4:  Loss:     0.5205 Validation Accuracy: 0.699000\n",
      "Epoch 32, CIFAR-10 Batch 5:  Loss:     0.5037 Validation Accuracy: 0.694200\n",
      "Epoch 33, CIFAR-10 Batch 1:  Loss:     0.5631 Validation Accuracy: 0.695000\n",
      "Epoch 33, CIFAR-10 Batch 2:  Loss:     0.5721 Validation Accuracy: 0.698600\n",
      "Epoch 33, CIFAR-10 Batch 3:  Loss:     0.5258 Validation Accuracy: 0.709800\n",
      "Epoch 33, CIFAR-10 Batch 4:  Loss:     0.5012 Validation Accuracy: 0.701600\n",
      "Epoch 33, CIFAR-10 Batch 5:  Loss:     0.4964 Validation Accuracy: 0.697200\n",
      "Epoch 34, CIFAR-10 Batch 1:  Loss:     0.5504 Validation Accuracy: 0.694400\n",
      "Epoch 34, CIFAR-10 Batch 2:  Loss:     0.5426 Validation Accuracy: 0.704400\n",
      "Epoch 34, CIFAR-10 Batch 3:  Loss:     0.5102 Validation Accuracy: 0.708000\n",
      "Epoch 34, CIFAR-10 Batch 4:  Loss:     0.4838 Validation Accuracy: 0.700400\n",
      "Epoch 34, CIFAR-10 Batch 5:  Loss:     0.4735 Validation Accuracy: 0.699800\n",
      "Epoch 35, CIFAR-10 Batch 1:  Loss:     0.5241 Validation Accuracy: 0.701600\n",
      "Epoch 35, CIFAR-10 Batch 2:  Loss:     0.5225 Validation Accuracy: 0.707400\n",
      "Epoch 35, CIFAR-10 Batch 3:  Loss:     0.4978 Validation Accuracy: 0.708800\n",
      "Epoch 35, CIFAR-10 Batch 4:  Loss:     0.4613 Validation Accuracy: 0.704600\n",
      "Epoch 35, CIFAR-10 Batch 5:  Loss:     0.4477 Validation Accuracy: 0.702800\n",
      "Epoch 36, CIFAR-10 Batch 1:  Loss:     0.4909 Validation Accuracy: 0.707000\n",
      "Epoch 36, CIFAR-10 Batch 2:  Loss:     0.5014 Validation Accuracy: 0.707400\n",
      "Epoch 36, CIFAR-10 Batch 3:  Loss:     0.4787 Validation Accuracy: 0.707400\n",
      "Epoch 36, CIFAR-10 Batch 4:  Loss:     0.4490 Validation Accuracy: 0.710000\n",
      "Epoch 36, CIFAR-10 Batch 5:  Loss:     0.4328 Validation Accuracy: 0.699000\n",
      "Epoch 37, CIFAR-10 Batch 1:  Loss:     0.4762 Validation Accuracy: 0.707600\n",
      "Epoch 37, CIFAR-10 Batch 2:  Loss:     0.4773 Validation Accuracy: 0.714000\n",
      "Epoch 37, CIFAR-10 Batch 3:  Loss:     0.4672 Validation Accuracy: 0.708400\n",
      "Epoch 37, CIFAR-10 Batch 4:  Loss:     0.4351 Validation Accuracy: 0.704400\n",
      "Epoch 37, CIFAR-10 Batch 5:  Loss:     0.4154 Validation Accuracy: 0.701600\n",
      "Epoch 38, CIFAR-10 Batch 1:  Loss:     0.4611 Validation Accuracy: 0.709400\n",
      "Epoch 38, CIFAR-10 Batch 2:  Loss:     0.4694 Validation Accuracy: 0.710800\n",
      "Epoch 38, CIFAR-10 Batch 3:  Loss:     0.4424 Validation Accuracy: 0.711200\n",
      "Epoch 38, CIFAR-10 Batch 4:  Loss:     0.4091 Validation Accuracy: 0.703800\n",
      "Epoch 38, CIFAR-10 Batch 5:  Loss:     0.4064 Validation Accuracy: 0.702600\n",
      "Epoch 39, CIFAR-10 Batch 1:  Loss:     0.4392 Validation Accuracy: 0.705800\n",
      "Epoch 39, CIFAR-10 Batch 2:  Loss:     0.4570 Validation Accuracy: 0.709600\n",
      "Epoch 39, CIFAR-10 Batch 3:  Loss:     0.4329 Validation Accuracy: 0.710400\n",
      "Epoch 39, CIFAR-10 Batch 4:  Loss:     0.4060 Validation Accuracy: 0.709400\n",
      "Epoch 39, CIFAR-10 Batch 5:  Loss:     0.3964 Validation Accuracy: 0.695600\n",
      "Epoch 40, CIFAR-10 Batch 1:  Loss:     0.4252 Validation Accuracy: 0.712400\n",
      "Epoch 40, CIFAR-10 Batch 2:  Loss:     0.4443 Validation Accuracy: 0.712400\n",
      "Epoch 40, CIFAR-10 Batch 3:  Loss:     0.4161 Validation Accuracy: 0.714400\n",
      "Epoch 40, CIFAR-10 Batch 4:  Loss:     0.3957 Validation Accuracy: 0.707600\n",
      "Epoch 40, CIFAR-10 Batch 5:  Loss:     0.3805 Validation Accuracy: 0.704600\n",
      "Epoch 41, CIFAR-10 Batch 1:  Loss:     0.4069 Validation Accuracy: 0.710000\n",
      "Epoch 41, CIFAR-10 Batch 2:  Loss:     0.4254 Validation Accuracy: 0.714400\n",
      "Epoch 41, CIFAR-10 Batch 3:  Loss:     0.4158 Validation Accuracy: 0.714600\n",
      "Epoch 41, CIFAR-10 Batch 4:  Loss:     0.3689 Validation Accuracy: 0.709600\n",
      "Epoch 41, CIFAR-10 Batch 5:  Loss:     0.3828 Validation Accuracy: 0.702200\n",
      "Epoch 42, CIFAR-10 Batch 1:  Loss:     0.4106 Validation Accuracy: 0.702600\n",
      "Epoch 42, CIFAR-10 Batch 2:  Loss:     0.4075 Validation Accuracy: 0.713200\n",
      "Epoch 42, CIFAR-10 Batch 3:  Loss:     0.4087 Validation Accuracy: 0.707800\n",
      "Epoch 42, CIFAR-10 Batch 4:  Loss:     0.3620 Validation Accuracy: 0.716600\n",
      "Epoch 42, CIFAR-10 Batch 5:  Loss:     0.3639 Validation Accuracy: 0.699800\n",
      "Epoch 43, CIFAR-10 Batch 1:  Loss:     0.4054 Validation Accuracy: 0.698200\n",
      "Epoch 43, CIFAR-10 Batch 2:  Loss:     0.4132 Validation Accuracy: 0.706000\n",
      "Epoch 43, CIFAR-10 Batch 3:  Loss:     0.3877 Validation Accuracy: 0.709200\n",
      "Epoch 43, CIFAR-10 Batch 4:  Loss:     0.3509 Validation Accuracy: 0.714600\n",
      "Epoch 43, CIFAR-10 Batch 5:  Loss:     0.3505 Validation Accuracy: 0.709000\n",
      "Epoch 44, CIFAR-10 Batch 1:  Loss:     0.3891 Validation Accuracy: 0.704400\n",
      "Epoch 44, CIFAR-10 Batch 2:  Loss:     0.3973 Validation Accuracy: 0.709200\n",
      "Epoch 44, CIFAR-10 Batch 3:  Loss:     0.3706 Validation Accuracy: 0.708000\n",
      "Epoch 44, CIFAR-10 Batch 4:  Loss:     0.3543 Validation Accuracy: 0.711200\n",
      "Epoch 44, CIFAR-10 Batch 5:  Loss:     0.3414 Validation Accuracy: 0.697000\n",
      "Epoch 45, CIFAR-10 Batch 1:  Loss:     0.4106 Validation Accuracy: 0.702000\n",
      "Epoch 45, CIFAR-10 Batch 2:  Loss:     0.3928 Validation Accuracy: 0.699600\n",
      "Epoch 45, CIFAR-10 Batch 3:  Loss:     0.4177 Validation Accuracy: 0.693200\n",
      "Epoch 45, CIFAR-10 Batch 4:  Loss:     0.3758 Validation Accuracy: 0.696400\n",
      "Epoch 45, CIFAR-10 Batch 5:  Loss:     0.3754 Validation Accuracy: 0.694400\n",
      "Epoch 46, CIFAR-10 Batch 1:  Loss:     0.3958 Validation Accuracy: 0.700200\n",
      "Epoch 46, CIFAR-10 Batch 2:  Loss:     0.4072 Validation Accuracy: 0.693800\n",
      "Epoch 46, CIFAR-10 Batch 3:  Loss:     0.4023 Validation Accuracy: 0.697400\n",
      "Epoch 46, CIFAR-10 Batch 4:  Loss:     0.3573 Validation Accuracy: 0.702000\n",
      "Epoch 46, CIFAR-10 Batch 5:  Loss:     0.3502 Validation Accuracy: 0.694600\n",
      "Epoch 47, CIFAR-10 Batch 1:  Loss:     0.3975 Validation Accuracy: 0.703800\n",
      "Epoch 47, CIFAR-10 Batch 2:  Loss:     0.3697 Validation Accuracy: 0.707200\n",
      "Epoch 47, CIFAR-10 Batch 3:  Loss:     0.3439 Validation Accuracy: 0.708600\n",
      "Epoch 47, CIFAR-10 Batch 4:  Loss:     0.3130 Validation Accuracy: 0.714400\n",
      "Epoch 47, CIFAR-10 Batch 5:  Loss:     0.3311 Validation Accuracy: 0.700800\n",
      "Epoch 48, CIFAR-10 Batch 1:  Loss:     0.3440 Validation Accuracy: 0.708600\n",
      "Epoch 48, CIFAR-10 Batch 2:  Loss:     0.3615 Validation Accuracy: 0.704400\n",
      "Epoch 48, CIFAR-10 Batch 3:  Loss:     0.3080 Validation Accuracy: 0.720600\n",
      "Epoch 48, CIFAR-10 Batch 4:  Loss:     0.3049 Validation Accuracy: 0.705800\n",
      "Epoch 48, CIFAR-10 Batch 5:  Loss:     0.3191 Validation Accuracy: 0.692600\n",
      "Epoch 49, CIFAR-10 Batch 1:  Loss:     0.3301 Validation Accuracy: 0.709200\n",
      "Epoch 49, CIFAR-10 Batch 2:  Loss:     0.3245 Validation Accuracy: 0.708400\n",
      "Epoch 49, CIFAR-10 Batch 3:  Loss:     0.3050 Validation Accuracy: 0.710400\n",
      "Epoch 49, CIFAR-10 Batch 4:  Loss:     0.2933 Validation Accuracy: 0.711800\n",
      "Epoch 49, CIFAR-10 Batch 5:  Loss:     0.3001 Validation Accuracy: 0.697400\n",
      "Epoch 50, CIFAR-10 Batch 1:  Loss:     0.3082 Validation Accuracy: 0.709800\n",
      "Epoch 50, CIFAR-10 Batch 2:  Loss:     0.3044 Validation Accuracy: 0.708000\n",
      "Epoch 50, CIFAR-10 Batch 3:  Loss:     0.2811 Validation Accuracy: 0.716800\n",
      "Epoch 50, CIFAR-10 Batch 4:  Loss:     0.2667 Validation Accuracy: 0.710600\n",
      "Epoch 50, CIFAR-10 Batch 5:  Loss:     0.2812 Validation Accuracy: 0.703800\n"
     ]
    }
   ],
   "source": [
    "\"\"\"\n",
    "DON'T MODIFY ANYTHING IN THIS CELL\n",
    "\"\"\"\n",
    "save_model_path = './image_classification'\n",
    "\n",
    "print('Training...')\n",
    "with tf.Session() as sess:\n",
    "    # Initializing the variables\n",
    "    sess.run(tf.global_variables_initializer())\n",
    "    \n",
    "    # Training cycle\n",
    "    for epoch in range(epochs):\n",
    "        # Loop over all batches\n",
    "        n_batches = 5\n",
    "        for batch_i in range(1, n_batches + 1):\n",
    "            for batch_features, batch_labels in helper.load_preprocess_training_batch(batch_i, batch_size):\n",
    "                train_neural_network(sess, optimizer, keep_probability, batch_features, batch_labels)\n",
    "            print('Epoch {:>2}, CIFAR-10 Batch {}:  '.format(epoch + 1, batch_i), end='')\n",
    "            print_stats(sess, batch_features, batch_labels, cost, accuracy)\n",
    "            \n",
    "    # Save Model\n",
    "    saver = tf.train.Saver()\n",
    "    save_path = saver.save(sess, save_model_path)"
   ]
  },
  {
   "cell_type": "markdown",
   "metadata": {
    "deletable": true,
    "editable": true
   },
   "source": [
    "# Checkpoint\n",
    "The model has been saved to disk.\n",
    "## Test Model\n",
    "Test your model against the test dataset.  This will be your final accuracy. You should have an accuracy greater than 50%. If you don't, keep tweaking the model architecture and parameters."
   ]
  },
  {
   "cell_type": "code",
   "execution_count": 12,
   "metadata": {
    "collapsed": false,
    "deletable": true,
    "editable": true
   },
   "outputs": [
    {
     "name": "stdout",
     "output_type": "stream",
     "text": [
      "Testing Accuracy: 0.7057517528533935\n",
      "\n"
     ]
    },
    {
     "data": {
      "image/png": "[encoded data removed]",
      "text/plain": [
       "<matplotlib.figure.Figure at 0x7ff03c6546d8>"
      ]
     },
     "metadata": {
      "image/png": {
       "height": 319,
       "width": 355
      }
     },
     "output_type": "display_data"
    }
   ],
   "source": [
    "\"\"\"\n",
    "DON'T MODIFY ANYTHING IN THIS CELL\n",
    "\"\"\"\n",
    "%matplotlib inline\n",
    "%config InlineBackend.figure_format = 'retina'\n",
    "\n",
    "import tensorflow as tf\n",
    "import pickle\n",
    "import helper\n",
    "import random\n",
    "\n",
    "# Set batch size if not already set\n",
    "try:\n",
    "    if batch_size:\n",
    "        pass\n",
    "except NameError:\n",
    "    batch_size = 64\n",
    "\n",
    "save_model_path = './image_classification'\n",
    "n_samples = 4\n",
    "top_n_predictions = 3\n",
    "\n",
    "def test_model():\n",
    "    \"\"\"\n",
    "    Test the saved model against the test dataset\n",
    "    \"\"\"\n",
    "\n",
    "    test_features, test_labels = pickle.load(open('preprocess_training.p', mode='rb'))\n",
    "    loaded_graph = tf.Graph()\n",
    "\n",
    "    with tf.Session(graph=loaded_graph) as sess:\n",
    "        # Load model\n",
    "        loader = tf.train.import_meta_graph(save_model_path + '.meta')\n",
    "        loader.restore(sess, save_model_path)\n",
    "\n",
    "        # Get Tensors from loaded model\n",
    "        loaded_x = loaded_graph.get_tensor_by_name('x:0')\n",
    "        loaded_y = loaded_graph.get_tensor_by_name('y:0')\n",
    "        loaded_keep_prob = loaded_graph.get_tensor_by_name('keep_prob:0')\n",
    "        loaded_logits = loaded_graph.get_tensor_by_name('logits:0')\n",
    "        loaded_acc = loaded_graph.get_tensor_by_name('accuracy:0')\n",
    "        \n",
    "        # Get accuracy in batches for memory limitations\n",
    "        test_batch_acc_total = 0\n",
    "        test_batch_count = 0\n",
    "        \n",
    "        for train_feature_batch, train_label_batch in helper.batch_features_labels(test_features, test_labels, batch_size):\n",
    "            test_batch_acc_total += sess.run(\n",
    "                loaded_acc,\n",
    "                feed_dict={loaded_x: train_feature_batch, loaded_y: train_label_batch, loaded_keep_prob: 1.0})\n",
    "            test_batch_count += 1\n",
    "\n",
    "        print('Testing Accuracy: {}\\n'.format(test_batch_acc_total/test_batch_count))\n",
    "\n",
    "        # Print Random Samples\n",
    "        random_test_features, random_test_labels = tuple(zip(*random.sample(list(zip(test_features, test_labels)), n_samples)))\n",
    "        random_test_predictions = sess.run(\n",
    "            tf.nn.top_k(tf.nn.softmax(loaded_logits), top_n_predictions),\n",
    "            feed_dict={loaded_x: random_test_features, loaded_y: random_test_labels, loaded_keep_prob: 1.0})\n",
    "        helper.display_image_predictions(random_test_features, random_test_labels, random_test_predictions)\n",
    "\n",
    "\n",
    "test_model()"
   ]
  },
  {
   "cell_type": "markdown",
   "metadata": {
    "deletable": true,
    "editable": true
   },
   "source": [
    "## Why 50-80% Accuracy?\n",
    "You might be wondering why you can't get an accuracy any higher. First things first, 50% isn't bad for a simple CNN.  Pure guessing would get you 10% accuracy. However, you might notice people are getting scores [well above 80%](http://rodrigob.github.io/are_we_there_yet/build/classification_datasets_results.html#43494641522d3130).  That's because we haven't taught you all there is to know about neural networks. We still need to cover a few more techniques.\n",
    "## Submitting This Project\n",
    "When submitting this project, make sure to run all the cells before saving the notebook.  Save the notebook file as \"dlnd_image_classification.ipynb\" and save it as a HTML file under \"File\" -> \"Download as\".  Include the \"helper.py\" and \"problem_unittests.py\" files in your submission."
   ]
  },
  {
   "cell_type": "code",
   "execution_count": null,
   "metadata": {
    "collapsed": true,
    "deletable": true,
    "editable": true
   },
   "outputs": [],
   "source": []
  }
 ],
 "metadata": {
  "kernelspec": {
   "display_name": "Python 3",
   "language": "python",
   "name": "python3"
  },
  "language_info": {
   "codemirror_mode": {
    "name": "ipython",
    "version": 3
   },
   "file_extension": ".py",
   "mimetype": "text/x-python",
   "name": "python",
   "nbconvert_exporter": "python",
   "pygments_lexer": "ipython3",
   "version": "3.5.2"
  },
  "widgets": {
   "state": {},
   "version": "1.1.2"
  }
 },
 "nbformat": 4,
 "nbformat_minor": 0
}
